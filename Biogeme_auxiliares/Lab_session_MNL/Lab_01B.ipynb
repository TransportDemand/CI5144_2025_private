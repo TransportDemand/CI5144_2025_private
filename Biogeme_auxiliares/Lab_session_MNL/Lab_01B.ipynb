{
 "cells": [
  {
   "cell_type": "markdown",
   "metadata": {},
   "source": [
    "# Demanda de transporte\n",
    "\n",
    "## `Auxiliar: Redes neuronales artificiales`\n",
    "\n",
    "**Junio 2024**<br>\n",
    "**Gabriel Nova & Sander van Cranenburgh** <br>\n",
    "**G.N.Nova@tudelft.nl** <br>"
   ]
  },
  {
   "cell_type": "markdown",
   "metadata": {},
   "source": [
    "### `Application: Modelling neighbourhood choices`\n",
    "\n",
    "In this lab session, we will analyse neighbourhood location choice behaviour. Understanding people's preferences over neighbourhood characteristics is crucial for city planners when they (re)develop neighbourhoods or devise policies to tackle e.g. residential segregation. During this lab session, you will apply discrete choice models to uncover people's preferences over attributes, such as the distance to the city centre and the share of foreigners in their neighbourhood. Also, you will explore whether preferences interact with covariates such as age, gender, home ownership, car ownership and urbanisation level. While doing so, you will test various utility specifications and interpret the modelling outcomes of discrete choice models.\n",
    "\n",
    "For this study, we use data from a Stated Choice (SC) experiment, which was conducted between 2017 and 2018 in four European cities: Hanover, Mainz, Bern, and Zurich.\n",
    "\n",
    "![SC](./data/sc_experiment.png)\n",
    "\n",
    "**`Learning objectives lab session 01`**\n",
    "\n",
    "After completing the following lab session, you will be able to:\n",
    "* Interpret the statitical significance ofdiscrete choice model estimates\n",
    "* Test alternative utility specification with interactions and nonlinearities\n",
    "\n",
    "\n",
    "**`This lab consists of 2 parts and has 2 exercises`**\n",
    "\n",
    "**Part 1**: Interactions with socio-demographic variables and nonlinear utilities\n",
    "- Exerise 1: \"Modelling interactions with socio-demographic variables\"\n",
    "- Exerise 2: \"Nonlinear utility specifcations\"\n",
    "\n",
    "**Part 2**: Understanding the impact of the sample size on the standard errors of the estimates\n",
    "- Excerise 3: \"Impact of sample size on standard errors\""
   ]
  },
  {
   "cell_type": "markdown",
   "metadata": {},
   "source": [
    "#### `Import packages`"
   ]
  },
  {
   "cell_type": "markdown",
   "metadata": {},
   "source": [
    "To begin, we will import all the Python libraries that we will use in this lab session."
   ]
  },
  {
   "cell_type": "code",
   "execution_count": 1,
   "metadata": {},
   "outputs": [],
   "source": [
    "# Biogeme\n",
    "import biogeme.database as db\n",
    "import biogeme.biogeme as bio\n",
    "from biogeme import models\n",
    "from biogeme.expressions import Beta, Variable, log, exp\n",
    "\n",
    "# General python packages\n",
    "import pandas as pd\n",
    "import numpy as np\n",
    "import matplotlib.pyplot as plt \n",
    "from pathlib import Path\n",
    "\n",
    "# Pandas setting to show all columns when displaying a pandas dataframe\n",
    "pd.set_option('display.max_columns', None)"
   ]
  },
  {
   "cell_type": "markdown",
   "metadata": {},
   "source": [
    "## Part 1: Interactions with socio-demographic variables and nonlinear utilities\n",
    "In this part, we will: \n",
    "1. Load the data. \n",
    "1. Estimate the basic linear-additive RUM-MNL model. This model serves as the benchmark.\n",
    "1. Explore how tastes vary across socio-demographic groups, using interaction terms. Specifically, we will test whether males and females have different of the tasted for the share of foreigners in the neighbourhood.\n",
    "1. Assess the validity of the the linearity assumption of the utility function by testing a non-linear utility specification."
   ]
  },
  {
   "cell_type": "markdown",
   "metadata": {},
   "source": [
    "### `1. Load the data set` <br>"
   ]
  },
  {
   "cell_type": "markdown",
   "metadata": {},
   "source": [
    "**`Load the data set`** <br>"
   ]
  },
  {
   "cell_type": "code",
   "execution_count": 2,
   "metadata": {},
   "outputs": [],
   "source": [
    "# Load the data as a pandas dataframe\n",
    "data_path =  Path(f'data/choice_data_cleaned.dat')\n",
    "df = pd.read_csv(data_path, sep='\\t')"
   ]
  },
  {
   "cell_type": "markdown",
   "metadata": {},
   "source": [
    "### `2. The linear-additive RUM-MNL model` <br>"
   ]
  },
  {
   "cell_type": "markdown",
   "metadata": {},
   "source": [
    "**`Biogeme database`**<br>\n",
    "To use biogeme, we first need to create the data set as a Biogeme database object using `db.Database()`. This object contains the data in a format compatible with the library functions for model estimation in Biogeme."
   ]
  },
  {
   "cell_type": "code",
   "execution_count": 3,
   "metadata": {},
   "outputs": [],
   "source": [
    "# db.Database takes as arguments (1) a name (string) and (2) a data set (pandas dataframe)\n",
    "biodata = db.Database('Neighboorhood_choice_data', df)"
   ]
  },
  {
   "cell_type": "markdown",
   "metadata": {},
   "source": [
    "**`Estimation function`** \n",
    "\n",
    "To estimate the MNL models, we use the function `estimate_mnl()` that we created in Lab 1.<br>\n",
    "This time we directly import the function from the file `estimation_functions.py` and use it to estimate the MNL model.<br>\n",
    "<br>\n",
    "It takes the following inputs:<br>\n",
    "* Systematic utilities function (**V1, V2, V3**)\n",
    "* Chosen alternatives array (**CHOICE**)\n",
    "* Database which contains the relevant attributes and characteristics (**database**)\n",
    "* Model name (**\"string\"**)"
   ]
  },
  {
   "cell_type": "code",
   "execution_count": 4,
   "metadata": {},
   "outputs": [],
   "source": [
    "# Import the estimation function\n",
    "from estimation_functions import estimate_mnl\n",
    "# To use it, we invoke result = estimate_mnl(V1,V2,V3,CHOICE,database,name)"
   ]
  },
  {
   "cell_type": "markdown",
   "metadata": {},
   "source": [
    "**`Biogeme variables`**<br>\n",
    "\n",
    "Also, we need to create Biogeme objects for all the variables in our data set that we want to use in our model specifications.<br>\n",
    "The `Variable()` function creates an object that represents the variable values and will allow it to be included in the model estimation function."
   ]
  },
  {
   "cell_type": "code",
   "execution_count": 5,
   "metadata": {},
   "outputs": [],
   "source": [
    "# We create Variable objects for each of the variables in the data set that we want to use in the model\n",
    "\n",
    "# Attributes of alternative 1\n",
    "STORES1     = Variable('STORES1')\n",
    "TRANSPORT1  = Variable('TRANSPORT1')\n",
    "CITY1       = Variable('CITY1')\n",
    "NOISE1      = Variable('NOISE1')\n",
    "GREEN1      = Variable('GREEN1')\n",
    "FOREIGN1    = Variable('FOREIGN1')\n",
    "\n",
    "# Attributes of alternative 2    \n",
    "STORES2     = Variable('STORES2')\n",
    "TRANSPORT2  = Variable('TRANSPORT2')\n",
    "CITY2       = Variable('CITY2')\n",
    "NOISE2      = Variable('NOISE2')\n",
    "GREEN2      = Variable('GREEN2')\n",
    "FOREIGN2    = Variable('FOREIGN2')\n",
    "    \n",
    "# Attributes of alternative 3\n",
    "STORES3     = Variable('STORES3')\n",
    "TRANSPORT3  = Variable('TRANSPORT3')\n",
    "CITY3       = Variable('CITY3')\n",
    "NOISE3      = Variable('NOISE3')\n",
    "GREEN3      = Variable('GREEN3')\n",
    "FOREIGN3    = Variable('FOREIGN3')\n",
    "\n",
    "# The choice\n",
    "CHOICE      = Variable('CHOICE')\n",
    "\n",
    "# Socio-economic variables\n",
    "AGE         = Variable('AGE')\n",
    "WOMAN       = Variable('WOMAN')\n",
    "HOMEOWNER   = Variable('HOMEOWNER')\n",
    "CAROWNER    = Variable('CAROWNER')\n",
    "RESPCITY    = Variable('RESPCITY')\n",
    "JOB         = Variable('JOB')"
   ]
  },
  {
   "cell_type": "markdown",
   "metadata": {},
   "source": [
    "**`The linear-additive utility specification`**\n",
    "\n",
    "The cell below creates the utility functions for a linear-additive RUM model in Biogeme."
   ]
  },
  {
   "cell_type": "code",
   "execution_count": 6,
   "metadata": {},
   "outputs": [],
   "source": [
    "# Give a name to the model    \n",
    "model_name = 'Linear-additive RUM-MNL'\n",
    "\n",
    "# Define the model parameters, using the function \"Beta()\", in which you must define:\n",
    "# the name of the parameter,\n",
    "# starting value, \n",
    "# lower bound,\n",
    "# upper bound, \n",
    "# 0 or 1, indicating if the parameter must be estimated. 0 means estimated, 1 means fixed to the starting value. \n",
    "B_stores    = Beta('B_stores'   , 0, None, None, 0)\n",
    "B_transport = Beta('B_transport', 0, None, None, 0)\n",
    "B_city      = Beta('B_city'     , 0, None, None, 0)\n",
    "B_noise     = Beta('B_noise'    , 0, None, None, 0)\n",
    "B_green     = Beta('B_green'    , 0, None, None, 0)\n",
    "B_foreign   = Beta('B_foreign'  , 0, None, None, 0)\n",
    "\n",
    "# Define the utility functions\n",
    "V1 = B_stores * STORES1 + B_transport * TRANSPORT1 + B_city * CITY1 + B_noise * NOISE1 + B_green * GREEN1 + B_foreign * FOREIGN1\n",
    "V2 = B_stores * STORES2 + B_transport * TRANSPORT2 + B_city * CITY2 + B_noise * NOISE2 + B_green * GREEN2 + B_foreign * FOREIGN2\n",
    "V3 = B_stores * STORES3 + B_transport * TRANSPORT3 + B_city * CITY3 + B_noise * NOISE3 + B_green * GREEN3 + B_foreign * FOREIGN3"
   ]
  },
  {
   "cell_type": "markdown",
   "metadata": {},
   "source": [
    "**`Estimation of the linear-additive RUM-MNL model`**\n",
    "\n",
    "We pass the model specifications and the database to the estimation function, which returns an object which contains the estimation results."
   ]
  },
  {
   "cell_type": "code",
   "execution_count": 7,
   "metadata": {},
   "outputs": [],
   "source": [
    "# Estimate the model\n",
    "results_MNL = estimate_mnl(V1,V2,V3,CHOICE,biodata,model_name)"
   ]
  },
  {
   "cell_type": "code",
   "execution_count": null,
   "metadata": {},
   "outputs": [],
   "source": [
    "# Print the estimation statistics\n",
    "print(results_MNL.short_summary())\n",
    "\n",
    "# Get the model parameters in a pandas table and  print it\n",
    "beta_hat_MNL = results_MNL.get_estimated_parameters()\n",
    "print(beta_hat_MNL)\n",
    "\n",
    "# Store the LL of the MNL model for later use\n",
    "LL_MNL = results_MNL.data.logLike"
   ]
  },
  {
   "cell_type": "markdown",
   "metadata": {},
   "source": [
    "### `3. Interactions with socio-demographic variables` <br>"
   ]
  },
  {
   "cell_type": "markdown",
   "metadata": {},
   "source": [
    "Preferences and tastes may vary across socio-demographic segments of the population. By interacting socio-demographic variables with the other attributes, we can obtain insights into how preferences vary across socio-demographic groups.<br>\n",
    "\n",
    "For example, we can include the variable `WOMAN` as an interaction with one of the attributes, e.g. `FOREIGN`. This allows us to analyse whether there is a difference between males and females in terms of their taste over this attribute. <br>\n",
    "\n",
    "To specify a model with interactions, we create separate taste parameters for `WOMAN` and for `MAN`, to interact with the attribute `FOREIGN`: <br>\n",
    "\n",
    "    B_foreign_woman = Beta('B_foreign_woman'  , 0, None, None, 0)\n",
    "    B_foreign_man   = Beta('B_foreign_man'    , 0, None, None, 0)\n",
    "\n",
    "    V1 =  ... + (B_foreign_man * (WOMAN == 0) + B_woman_foreign_woman * (WOMAN == 1)) * FOREIGN1\n",
    "\n",
    "The logical statements (WOMAN == 0) and (WOMAN == 1) are used to create a dummy variable that takes the value 1 if the condition is met and 0 otherwise. This allows us to estimate the gender-specific taste parameters for B_foreign."
   ]
  },
  {
   "cell_type": "code",
   "execution_count": null,
   "metadata": {},
   "outputs": [],
   "source": [
    "# Give a name to the model   \n",
    "model_name = 'Linear-additive RUM-MNL with interaction term'\n",
    "\n",
    "B_stores        = Beta('B_stores'       , 0, None, None, 0)\n",
    "B_transport     = Beta('B_transport'    , 0, None, None, 0)\n",
    "B_city          = Beta('B_city'         , 0, None, None, 0)\n",
    "B_noise         = Beta('B_noise'        , 0, None, None, 0)\n",
    "B_green         = Beta('B_green'        , 0, None, None, 0)\n",
    "B_foreign_man   = Beta('B_foreign_man'  , 0, None, None, 0)\n",
    "B_foreign_woman = Beta('B_foreign_woman', 0, None, None, 0)\n",
    "\n",
    "# Definition of the utility functions\n",
    "V1 = B_stores * STORES1 + B_transport * TRANSPORT1 + B_city * CITY1 + B_noise * NOISE1 + B_green * GREEN1 + (B_foreign_man*(WOMAN==0) + B_foreign_woman*(WOMAN==1)) * FOREIGN1\n",
    "V2 = B_stores * STORES2 + B_transport * TRANSPORT2 + B_city * CITY2 + B_noise * NOISE2 + B_green * GREEN2 + (B_foreign_man*(WOMAN==0) + B_foreign_woman*(WOMAN==1)) * FOREIGN2\n",
    "V3 = B_stores * STORES3 + B_transport * TRANSPORT3 + B_city * CITY3 + B_noise * NOISE3 + B_green * GREEN3 + (B_foreign_man*(WOMAN==0) + B_foreign_woman*(WOMAN==1)) * FOREIGN3\n",
    "\n",
    "# Estimate the model using the estimate_mnl function created before\n",
    "results_interaction = estimate_mnl(V1,V2,V3,CHOICE,biodata,model_name)\n",
    "\n",
    "# Print the estimation statistics\n",
    "print(results_interaction.short_summary())\n",
    "\n",
    "# Get the model parameters in a pandas table and then print it\n",
    "beta_hat_interaction = results_interaction.get_estimated_parameters()\n",
    "print(beta_hat_interaction)\n"
   ]
  },
  {
   "cell_type": "markdown",
   "metadata": {},
   "source": [
    "**Interpretation:**<br>\n",
    "The coefficient `B_foreign` represents the marginal utility of the percentage of foreigners in a neighbourhood. Since the estimated coefficient is negative, it means that an increase in the percentage of foreigners in a neighbourhood makes it less attractive.  In this model, we have interacted `gender` with the attribute `FOREIGN`. The parameters `B_foreign_woman` and `B_foreign_man` show that man and woman have different tastes over this attribute. Since the estimated coefficient is much smaller for woman than fro man, it indicates that woman place less value on the share of foreigners in a neighbourhood than men. "
   ]
  },
  {
   "cell_type": "markdown",
   "metadata": {},
   "source": [
    "### `Excersice 1: Modelling interactions with socio-demographic variables`"
   ]
  },
  {
   "cell_type": "markdown",
   "metadata": {},
   "source": [
    "Investigate whether inhabitants of different cities also have different tastes over the share of foreigners. To investigate this, you need to estimate another MNL model in which you interact the variable `RESPECITY` with `FOREIGN`. Note that RESPCITY has 4 categorical levels.\n",
    "\n",
    "Interpret your results. <br>\n",
    "\n",
    "`A` Do you find evidence of taste heterogeneity? I.e. do inhabitants of different cities have different tastes over the share of foreigners?<br>\n",
    "\n",
    "`B` Use the LRS to determine whether the model with interactions outperforms the linear-additive RUM-MNL model without interactions."
   ]
  },
  {
   "cell_type": "code",
   "execution_count": 10,
   "metadata": {},
   "outputs": [],
   "source": [
    "# Your code and answers"
   ]
  },
  {
   "cell_type": "markdown",
   "metadata": {},
   "source": [
    "### `4. Nonlinear utility specifications`\n",
    "\n",
    "Until now, we have assumed in our utility specification that utility is linear (and additive). This means that the change in utility caused by a unit change in the attribute level is independent of attribute's base level. We are to going assess the validity of this assumption by testing the alternative hypothesis, i.e. utility is nonlinear.<br>\n",
    "\n",
    "More specifically, we test the assumption that the utility derived from distance to the grocery store (`STORES`) takes a logarithmic form:\n",
    "\n",
    "$ V_{i} = \\beta_{STORES}\\ln(STORESi) + ...$\n",
    "\n",
    "Because the logarithm is a globally concave function, this assumption implies that the disutility of e.g. a 10-minutes trip is less than the disutility of two trips of 5 minutes. The plot below illustrates this assumption."
   ]
  },
  {
   "cell_type": "code",
   "execution_count": null,
   "metadata": {},
   "outputs": [],
   "source": [
    "# Illustrate the effect of the log of distance to the stores on the utility\n",
    "fig, ax = plt.subplots(figsize=(6, 6))\n",
    "beta_stores = [-0.02, -0.04, -0.06]\n",
    "for beta in beta_stores:\n",
    "    x = np.sort(df['STORES1'].unique())\n",
    "    V = beta*np.log(x)\n",
    "    ax.plot(x, V, label=f'beta_stores = {beta}')\n",
    "ax.set_xlabel('Distance to stores [min]')\n",
    "ax.set_xticks(x)\n",
    "ax.set_ylabel('Utility')\n",
    "ax.legend()\n",
    "ax.set_title('Effect on utility of using the log of the distance to the stores\\nfor different values of beta_stores')\n",
    "plt.show()"
   ]
  },
  {
   "cell_type": "code",
   "execution_count": null,
   "metadata": {},
   "outputs": [],
   "source": [
    "# Give a name to the model  \n",
    "model_name = 'MNL with non-linearities'\n",
    "\n",
    "# Parameters to be estimated\n",
    "B_stores    = Beta('B_stores'   , 0, None, None, 0)\n",
    "B_transport = Beta('B_transport', 0, None, None, 0)\n",
    "B_city      = Beta('B_city'     , 0, None, None, 0)\n",
    "B_noise     = Beta('B_noise'    , 0, None, None, 0)\n",
    "B_green     = Beta('B_green'    , 0, None, None, 0)\n",
    "B_foreign   = Beta('B_foreign'  , 0, None, None, 0) \n",
    "\n",
    "# Definition of the utility functions\n",
    "V1 = B_stores * log(STORES1) + B_transport * TRANSPORT1 + B_city * CITY1 + B_noise * NOISE1 + B_green * GREEN1 + B_foreign * FOREIGN1\n",
    "V2 = B_stores * log(STORES2) + B_transport * TRANSPORT2 + B_city * CITY2 + B_noise * NOISE2 + B_green * GREEN2 + B_foreign * FOREIGN2\n",
    "V3 = B_stores * log(STORES3) + B_transport * TRANSPORT3 + B_city * CITY3 + B_noise * NOISE3 + B_green * GREEN3 + B_foreign * FOREIGN3\n",
    "\n",
    "# Estimate\n",
    "results_nonlin = estimate_mnl(V1,V2,V3,CHOICE,biodata,model_name)   \n",
    "\n",
    "# Print the estimation statistics\n",
    "print(results_nonlin.short_summary())\n",
    "\n",
    "# Get the model parameters in a pandas table and then print it\n",
    "beta_hat_nonlin = results_nonlin.get_estimated_parameters()\n",
    "print(beta_hat_nonlin)"
   ]
  },
  {
   "cell_type": "markdown",
   "metadata": {},
   "source": [
    "**Interpretation:**<br>\n",
    "The results clearly show that the model fit (i.e. the Final LL) deteriorated because of the nonlinearity assumption. Hence, we keep our assumption that utility is linear with the distance to `STORES`."
   ]
  },
  {
   "cell_type": "markdown",
   "metadata": {},
   "source": [
    "### `Exercise 2: Nonlinear utility specifications`"
   ]
  },
  {
   "cell_type": "markdown",
   "metadata": {},
   "source": [
    "Now, let's turn our attention to the attribute `NOISE`. With noise, we expect the opposite effect of diminishing marginal utility. That is, the utility derived from \"high\" traffic noise (level 4) is probably much worse than that of two times \"little\" traffic noise (level 2). To investigate this, you need to estimate two nonlinear models, in which you try:\n",
    "\n",
    "(1) $ V_i = ... + \\beta_{noise} \\cdot exp(NOISE) + ... $\n",
    "\n",
    "(2) $ V_i = ... + \\beta_{noise} \\cdot NOISE + \\beta_{noise^2} \\cdot NOISE^2 + ...   $\n",
    "\n",
    "Interpret your results. <br>\n",
    "\n",
    "`A` Do you find evidence of nonlinear utility? <br>\n",
    "\n",
    "`B` Which of the two models is statistically the best model?"
   ]
  },
  {
   "cell_type": "code",
   "execution_count": 13,
   "metadata": {},
   "outputs": [],
   "source": [
    "# Your code and answers"
   ]
  },
  {
   "cell_type": "markdown",
   "metadata": {},
   "source": [
    "### `Categorical treatment of variables` <br>\n",
    "Alternatively, we can treat the attribute `NOISE` as a categorical variable. This allows us to estimate separate taste parameters for each level of the attribute. This is useful when we do not have a clear idea of the functional form of the utility function."
   ]
  },
  {
   "cell_type": "code",
   "execution_count": null,
   "metadata": {},
   "outputs": [],
   "source": [
    "# Give a name to the model  \n",
    "model_name = 'MNL with categorical NOISE'\n",
    "\n",
    "# Parameters to be estimated\n",
    "B_stores    = Beta('B_stores'   , 0, None, None, 0)\n",
    "B_transport = Beta('B_transport', 0, None, None, 0)\n",
    "B_city      = Beta('B_city'     , 0, None, None, 0)\n",
    "B_noise     = Beta('B_noise'    , 0, None, None, 0)\n",
    "B_green     = Beta('B_green'    , 0, None, None, 0)\n",
    "B_foreign   = Beta('B_foreign'  , 0, None, None, 0) \n",
    "B_noise_cat1    = Beta('B_noise_cat1'    , 0, None, None, 1)   \n",
    "B_noise_cat2    = Beta('B_noise_cat2'    , 0, None, None, 0)   \n",
    "B_noise_cat3    = Beta('B_noise_cat3'    , 0, None, None, 0)   \n",
    "B_noise_cat4    = Beta('B_noise_cat4'    , 0, None, None, 0)   \n",
    "\n",
    "# Definition of the utility functions\n",
    "V1 = B_stores * STORES1 + B_transport * TRANSPORT1 + B_city * CITY1 + B_noise_cat1 * (NOISE1==1) + B_noise_cat2 * (NOISE1==2) + B_noise_cat3 * (NOISE1==3) + B_noise_cat4 * (NOISE1==4) + B_green * GREEN1 + B_foreign * FOREIGN1\n",
    "V2 = B_stores * STORES2 + B_transport * TRANSPORT2 + B_city * CITY2 + B_noise_cat1 * (NOISE2==1) + B_noise_cat2 * (NOISE2==2) + B_noise_cat3 * (NOISE2==3) + B_noise_cat4 * (NOISE2==4) + B_green * GREEN2 + B_foreign * FOREIGN2\n",
    "V3 = B_stores * STORES3 + B_transport * TRANSPORT3 + B_city * CITY3 + B_noise_cat1 * (NOISE3==1) + B_noise_cat2 * (NOISE3==2) + B_noise_cat3 * (NOISE3==3) + B_noise_cat4 * (NOISE3==4) + B_green * GREEN3 + B_foreign * FOREIGN3\n",
    "\n",
    "# Estimate\n",
    "results_cat = estimate_mnl(V1,V2,V3,CHOICE,biodata,model_name)   \n",
    "\n",
    "# Print the estimation statistics\n",
    "print(results_cat.short_summary())\n",
    "\n",
    "# Get the model parameters in a pandas table and print it\n",
    "beta_hat_cat = results_cat.get_estimated_parameters()\n",
    "print(beta_hat_cat)"
   ]
  },
  {
   "cell_type": "markdown",
   "metadata": {},
   "source": [
    "**Interpretation:**<br>\n",
    "The results show that the model fit is even better when treating `NOISE` as a categorical variable than using the squared term. We can conduct an LRS to determine whether the model with the categorical treatment of `NOISE` outperforms the model with the squared term.\n",
    "The categorical model consumes 1 extra parameter, but the model fit improvement (-8044.28 vs. -8064.78) far exceeding the critical LRS."
   ]
  },
  {
   "cell_type": "code",
   "execution_count": null,
   "metadata": {},
   "outputs": [],
   "source": [
    "# Illustrate the effect of noise levels the utility\n",
    "fig, ax = plt.subplots(figsize=(6, 4))\n",
    "\n",
    "# Add B_noise_cat1 = 0 to the beta_hat_cat\n",
    "beta_hat_cat.loc['B_noise_cat1', 'Value']  = 0\n",
    "beta_noise = beta_hat_cat.loc[['B_noise_cat1','B_noise_cat2','B_noise_cat3','B_noise_cat4'],'Value'].values\n",
    "print(f' beta_noise = {beta_noise}')\n",
    "\n",
    "# Plot the effect of the noise levels on utility\n",
    "x = np.sort(df['NOISE1'].unique())\n",
    "V = beta_noise\n",
    "\n",
    "ax.plot(x, V,'o--')\n",
    "ax.set_xlabel('Noise level category')\n",
    "ax.set_xticks(x)\n",
    "ax.set_ylabel('Utility')\n",
    "ax.set_title('Categorical treatment of the noise levels')\n",
    "plt.show()"
   ]
  },
  {
   "cell_type": "markdown",
   "metadata": {},
   "source": [
    "**Interpretation:**<br>\n",
    "* The plot shows that people are indifferent to noise levels 1 and 2. However, they have a strong preference for (avoiding) higher noise levels. People derive especially a big disutility from noise level 4.\n",
    "* The line is dashed because the model treats `NOISE` as a categorical variable. This means that between the point a linear interpolation is made.  But this is just an assumption. We do not know the exact shape of the utility function."
   ]
  },
  {
   "cell_type": "markdown",
   "metadata": {},
   "source": [
    "## Part 2: Understanding the impact of the sample size on the <br> standard errors of the estimates\n",
    "\n",
    "The more data observations we have, the more **precise** our estimates will be. In this part, we will investigate how the sample size affects the **standard errors** of the estimates. We will do this by estimating the linear-additive RUM-MNL model with different sample sizes and inspect how the magnitudes of standard errors of the estimates decrease with increasing sample size."
   ]
  },
  {
   "cell_type": "code",
   "execution_count": null,
   "metadata": {},
   "outputs": [],
   "source": [
    "# Define the fractions to sample\n",
    "frac = [0.1, 0.2, 0.3, 0.4, 0.5, 0.6, 0.7, 0.8, 0.9, 1.0]\n",
    "\n",
    "# Create a pandas dataframe to store the results\n",
    "df_std_err_frac = pd.DataFrame(index=beta_hat_MNL.index, columns=frac)\n",
    "\n",
    "# Loop over the fractions\n",
    "for fraction in frac:\n",
    "    \n",
    "    # Randomly sample frac% of the data\n",
    "    df_frac = df.sample(frac=fraction, random_state=42)  # Using random_state for reproducibility\n",
    "\n",
    "    # Create a new Biogeme database with the sampled data\n",
    "    biodata_frac = db.Database('Neighbourhood_choice_data_sampled', df_frac)\n",
    "\n",
    "\n",
    "    # Give a name to the model    \n",
    "    model_name = f'Linear-additive RUM-MNL with {fraction*100}% of the data'\n",
    "\n",
    "    # Redefine the utility functions\n",
    "    V1 = B_stores * STORES1 + B_transport * TRANSPORT1 + B_city * CITY1 + B_noise * NOISE1 + B_green * GREEN1 + B_foreign * FOREIGN1\n",
    "    V2 = B_stores * STORES2 + B_transport * TRANSPORT2 + B_city * CITY2 + B_noise * NOISE2 + B_green * GREEN2 + B_foreign * FOREIGN2\n",
    "    V3 = B_stores * STORES3 + B_transport * TRANSPORT3 + B_city * CITY3 + B_noise * NOISE3 + B_green * GREEN3 + B_foreign * FOREIGN3\n",
    "\n",
    "    # Estimate the model\n",
    "    results_MNL_frac = estimate_mnl(V1,V2,V3,CHOICE,biodata_frac,model_name)\n",
    "\n",
    "    # Get the model parameters in a pandas table and  print it\n",
    "    beta_hat_MNL_frac   = results_MNL_frac.get_estimated_parameters()\n",
    "    df_std_err_frac.loc[:,fraction] = beta_hat_MNL_frac['Rob. Std err']\n",
    "    \n",
    "# Show the results\n",
    "df_std_err_frac"
   ]
  },
  {
   "cell_type": "code",
   "execution_count": null,
   "metadata": {},
   "outputs": [],
   "source": [
    "# Let's plot the standard errors for each beta as a function of the fraction of data\n",
    "fig, ax = plt.subplots(2,3,figsize=(10, 6), sharex=True)\n",
    "fig.tight_layout(pad=3.0)\n",
    "ax = ax.flatten()   \n",
    "for i, beta in enumerate(beta_hat_MNL.index):\n",
    "    # Plot the standard errors for each beta\n",
    "    ax[i].plot(frac, df_std_err_frac.loc[beta].values, marker='.')\n",
    "    ax[i].set_title(beta)\n",
    "    ax[i].set_xlim(0, 1.1)\n",
    "    if i >=3:\n",
    "        ax[i].set_xlabel('Fraction of data')\n",
    "\n",
    "ax[0].set_ylabel('Robust standard error')   \n",
    "ax[3].set_ylabel('Robust standard error')   \n",
    "plt.show()"
   ]
  },
  {
   "cell_type": "markdown",
   "metadata": {},
   "source": [
    "### `Exercise 3: Standard errors`\n",
    "Standard errors tell us how different the 𝛽 ̂s would have been if we had estimated the same choice model on a new sample of the same size. In the plot above, the standard errors are computed based on the second order derivatives of the log-likelihood function. Therefore, these are called \"analytical standard errors\". Another way to obtain the standard errors, is through a **sampling** approach (aka bootstrapping). This entails estimating the model numerous times based on a random sample of the data.\n",
    "<br>\n",
    "\n",
    "`A` Use sampling to investigate the standard errors of the estimates. Estimate the linear-additive RUM-MNL model hundred times, using a small fraction of 10%. \n",
    "<br>\n",
    "Hint: to ensure that you draw different samples each time, you can use the `sample()` function, set the `random_state` parameter to a different value each time, e.g. `random_state=1`, `random_state=2`, etc.\n",
    "\n",
    "`B` Can you reproduce the magnitudes of the standard errors in the plot above?<br>\n",
    "\n",
    "`C` Suppose that you would use a larger sampling fraction (e.g. 99%). Can you still reproduce the magnitudes of the standard errors in the plot above?<br>"
   ]
  },
  {
   "cell_type": "code",
   "execution_count": 18,
   "metadata": {},
   "outputs": [],
   "source": [
    "# Your code and answers"
   ]
  }
 ],
 "metadata": {
  "kernelspec": {
   "display_name": "Demanda",
   "language": "python",
   "name": "python3"
  },
  "language_info": {
   "codemirror_mode": {
    "name": "ipython",
    "version": 3
   },
   "file_extension": ".py",
   "mimetype": "text/x-python",
   "name": "python",
   "nbconvert_exporter": "python",
   "pygments_lexer": "ipython3",
   "version": "3.11.10"
  }
 },
 "nbformat": 4,
 "nbformat_minor": 2
}
