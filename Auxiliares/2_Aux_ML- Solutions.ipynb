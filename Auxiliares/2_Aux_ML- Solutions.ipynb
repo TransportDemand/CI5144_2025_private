{
 "cells": [
  {
   "cell_type": "markdown",
   "metadata": {},
   "source": [
    "# Demanda de transporte\n",
    "\n",
    "## `Auxiliar: Redes neuronales artificiales`\n",
    "\n",
    "**Junio 2024**<br>\n",
    "**Gabriel Nova** <br>\n",
    "**G.N.Nova@tudelft.nl** <br>"
   ]
  },
  {
   "cell_type": "markdown",
   "metadata": {},
   "source": [
    "### `Instrucciones`\n",
    "\n",
    "**Las sesiones de laboratorio son:**<br>\n",
    "* Entornos de aprendizaje donde trabajas con Jupyter y puedes resolver dudas.<br>\n",
    "* No son calificadas y no tienen que ser entregadas."
   ]
  },
  {
   "cell_type": "markdown",
   "metadata": {},
   "source": [
    "### `Configuración del entorno de trabajo`\n",
    "\n",
    "**Opción 1: Entorno local**<br>\n",
    "Descomenta la siguiente celda si estás ejecutando este cuaderno en tu entorno local, para instalar todas las dependencias en tu versión de Python.\n"
   ]
  },
  {
   "cell_type": "code",
   "execution_count": 61,
   "metadata": {},
   "outputs": [],
   "source": [
    "#!pip install -r requirements.txt"
   ]
  },
  {
   "cell_type": "markdown",
   "metadata": {},
   "source": [
    "**Opción 2: Google Colab**<br>\n",
    "Descomenta la siguiente celda si estás ejecutando este cuaderno en Google Colab."
   ]
  },
  {
   "cell_type": "code",
   "execution_count": 62,
   "metadata": {},
   "outputs": [],
   "source": [
    "#!git clone https://github.com/TransportDemand/CI5144\n",
    "#!pip install -r CI5144/requirements_colab.txt\n",
    "#!mv \"/content/CI5144/Auxiliares/data\" /content/data"
   ]
  },
  {
   "cell_type": "markdown",
   "metadata": {},
   "source": [
    "# `Aplicación: Modelando elecciones de vecindarios` <br>\n",
    "En esta sesión de laboratorio, analizaremos el comportamiento de elección de vecindarios. Comprender las preferencias de las personas sobre las características de los vecindarios es crucial para los urbanistas cuando (re)desarrollan vecindarios o diseñan políticas para abordar, por ejemplo, la segregación residencial. Durante esta sesión de laboratorio, aplicará modelos de elección discreta para descubrir las preferencias de las personas sobre atributos como la distancia al centro de la ciudad y la proporción de extranjeros en su vecindario. Además, explorará si las preferencias interactúan con covariables como la edad, el género, la propiedad de la vivienda, la propiedad del automóvil y el nivel de urbanización. Mientras lo hace, probará varias especificaciones de utilidad e interpretará los resultados de los modelos de elección discreta.\n",
    "\n",
    "Para este estudio, utilizamos datos de un experimento de elección declarada, que se llevó a cabo entre 2017 y 2018 en cuatro ciudades europeas: Hanover, Mainz, Berna y Zurich.\n",
    "\n",
    "**`Objetivos de aprendizaje del auxiliar`**\n",
    "\n",
    "Después de completar el auxiliar, podrás:\n",
    "* Entrenar un Perceptrón Multicapa (MLP) en datos de elección.\n",
    "* Entrenar un modelo de elección híbrido, utilizando PyTorch.\n",
    "* Balance entre el el comportamiento esperado y el ajuste del modelo.\n",
    "* Reflexionar sobre las fortalezas y debilidades de los enfoques de modelado basados en datos y en teoría.\n",
    "\n"
   ]
  },
  {
   "cell_type": "markdown",
   "metadata": {},
   "source": [
    "\n",
    "**`Este laboratorio consta de 4 partes`**\n",
    "\n",
    "**Parte 1**: Preparación de datos\n",
    "\n",
    "**Parte 2**: El modelo lineal-aditivo RUM-MNL\n",
    "- Ejercicio 1: \"Disposición a pagar por tiendas de comestibles\"\n",
    "\n",
    "**Parte 3**: El Perceptrón Multicapa\n",
    "- Ejercicio 2: \"Entrenamiento del modelo MLP\"\n",
    "- Ejercicio 3: \"Añadiendo las características socio-demográficas\"\n",
    "\n",
    "**Parte 4**: El modelo L-MNL\n",
    "- Ejercicio 4: \"Característica MLP\"\n",
    "- Ejercicio 5: \"Pronóstico utilizando el modelo L-MNL\"\n",
    "\n",
    "\n",
    "y comprende **`5`** ejercicios.\n",
    "\n"
   ]
  },
  {
   "cell_type": "markdown",
   "metadata": {},
   "source": [
    "#### `Importar packages`"
   ]
  },
  {
   "cell_type": "code",
   "execution_count": 63,
   "metadata": {},
   "outputs": [],
   "source": [
    "# Import required Python packages and modules\n",
    "import os\n",
    "import pandas as pd\n",
    "import matplotlib.pyplot as plt\n",
    "import numpy as np\n",
    "from os import getcwd\n",
    "from pathlib import Path\n",
    "\n",
    "# Biogeme\n",
    "import biogeme.database as db\n",
    "import biogeme.biogeme as bio\n",
    "from biogeme import models\n",
    "from biogeme.expressions import Beta, Variable, log\n",
    "\n",
    "# Scikit-learn\n",
    "from sklearn.preprocessing import StandardScaler\n",
    "\n",
    "#Pytorch\n",
    "import torch\n",
    "import torch.nn as nn\n",
    "import torch.optim as optim\n",
    "from torch.utils.data import DataLoader, TensorDataset"
   ]
  },
  {
   "cell_type": "markdown",
   "metadata": {},
   "source": [
    "### **1. Preparar su base de datos**\n",
    "Para preparar la base de datos, haremos lo siguiente:<br>\n",
    "    1.1 Cargar la base de datos<br>\n",
    "    1.2 Limpiar y preparar la base de datos<br>"
   ]
  },
  {
   "cell_type": "markdown",
   "metadata": {},
   "source": [
    " `i. Configurar el espacio de trabajo y cargar la base de datos`"
   ]
  },
  {
   "cell_type": "code",
   "execution_count": 64,
   "metadata": {},
   "outputs": [
    {
     "data": {
      "text/plain": [
       "(9720, 32)"
      ]
     },
     "execution_count": 64,
     "metadata": {},
     "output_type": "execute_result"
    }
   ],
   "source": [
    "# Obtener el ruta a la base de datos\n",
    "data_path = Path(f'data/choice_data.dat')\n",
    "\n",
    "# Cargar datos de elección de modo en un pandas DataFrame\n",
    "df = pd.read_csv(data_path, sep='\\t')\n",
    "df.shape"
   ]
  },
  {
   "cell_type": "markdown",
   "metadata": {},
   "source": [
    "**Descripción de variables**<br>\n",
    "\n",
    "Por lo tanto, se recomienda revisar la descripción de la base de datos."
   ]
  },
  {
   "cell_type": "markdown",
   "metadata": {},
   "source": [
    "| Variable       | Descripción                                                    | Tipo/Niveles |\n",
    "|----------------|---------------------------------------------------------------|--------------|\n",
    "| `ID`           | ID del encuestado                                             | Entero       |\n",
    "| `TASK_ID`      | Id de la tarea de elección                                    | Entero       |\n",
    "| `STORES`       | Minutos caminando a los supermercados        | 2 Min., 5 Min., 10 Min., 15 Min. |\n",
    "| `TRANSPORT`    | Minutos caminando al transporte público           | 2 Min., 5 Min., 10 Min., 15 Min. |\n",
    "| `CITY`         | Distancia al centro de la ciudad en km                        | Menos de 1 km, 1 a 2 km, 3 a 4 km, más de 4 km |\n",
    "| `NOISE`        | Ruido del tráfico en la calle                                 | 1 = Ninguno, 2 = Poco, 3 = Medio, 4 = Alto |\n",
    "| `GREEN`        | Áreas verdes en la zona residencial                           | 1 = Ninguno, 2 = Pocas, 3 = Algunas, 4 = Muchas |\n",
    "| `FOREIGN`      | Proporción de extranjeros en la zona residencial              | 0.10, 0.20, 0.30, 0.40 |\n",
    "| `CHOICE`       | Indica la elección                                            | Entero       |\n",
    "| `RESPCITY`     | Indica la ciudad. 1 = Mainz, 2 = Hanover, 3 = Berna, 4 = Zurich | Categórico   |\n",
    "| `WOMAN`        | Indica 1 si es mujer y 0 de lo contrario                      | Categórico      |\n",
    "| `AGE`          | Edad en años                                                  | Entero       |\n",
    "| `ENVCONC`      | Preocupación ambiental de 1 a 5, siendo 5 el grado más alto de preocupación | Ordinal     |\n",
    "| `EDUYEARS`     | Número de años de educación                                   | Numérico     |\n",
    "| `RESPFOREIGN`  | 1 si el encuestado es extranjero, 0 de lo contrario           | Categórico      |\n",
    "| `HOMEOWNER`    | Indica 1 si el encuestado es propietario de vivienda y 0 de lo contrario | Categórico      |\n",
    "| `CAROWNER`     | Indica 1 si el encuestado es propietario de un auto y 0 de lo contrario | Categórico      |\n",
    "| `JOB`          | 1 si el encuestado está trabajando, 0 de lo contrario         | Categórico      |\n",
    "| `NONWESTERN`   | 1 si el encuestado es no occidental, 0 de lo contrario        | Categórico      |\n",
    "| `WESTERN`      | 1 si el encuestado es occidental, 0 de lo contrario           | Categórico      |"
   ]
  },
  {
   "cell_type": "markdown",
   "metadata": {},
   "source": [
    "**1.2 Inspeccionar, limpiar y preparar los datos**<br>\n",
    "Antes de empezar a analizar los datos, asegúrate de que sabes qué conoces las características que posee.\n"
   ]
  },
  {
   "cell_type": "code",
   "execution_count": 65,
   "metadata": {},
   "outputs": [
    {
     "data": {
      "text/html": [
       "<div>\n",
       "<style scoped>\n",
       "    .dataframe tbody tr th:only-of-type {\n",
       "        vertical-align: middle;\n",
       "    }\n",
       "\n",
       "    .dataframe tbody tr th {\n",
       "        vertical-align: top;\n",
       "    }\n",
       "\n",
       "    .dataframe thead th {\n",
       "        text-align: right;\n",
       "    }\n",
       "</style>\n",
       "<table border=\"1\" class=\"dataframe\">\n",
       "  <thead>\n",
       "    <tr style=\"text-align: right;\">\n",
       "      <th></th>\n",
       "      <th>ID</th>\n",
       "      <th>TASK_ID</th>\n",
       "      <th>STORES1</th>\n",
       "      <th>TRANSPORT1</th>\n",
       "      <th>CITY1</th>\n",
       "      <th>NOISE1</th>\n",
       "      <th>GREEN1</th>\n",
       "      <th>FOREIGN1</th>\n",
       "      <th>STORES2</th>\n",
       "      <th>TRANSPORT2</th>\n",
       "      <th>...</th>\n",
       "      <th>WOMAN</th>\n",
       "      <th>AGE</th>\n",
       "      <th>ENVCONC</th>\n",
       "      <th>EDUYEARS</th>\n",
       "      <th>RESPFOREIGN</th>\n",
       "      <th>HOMEOWNER</th>\n",
       "      <th>CAROWNER</th>\n",
       "      <th>JOB</th>\n",
       "      <th>NONWESTERN</th>\n",
       "      <th>WESTERN</th>\n",
       "    </tr>\n",
       "  </thead>\n",
       "  <tbody>\n",
       "    <tr>\n",
       "      <th>count</th>\n",
       "      <td>9720.000000</td>\n",
       "      <td>9720.000000</td>\n",
       "      <td>9720.000000</td>\n",
       "      <td>9720.000000</td>\n",
       "      <td>9720.000000</td>\n",
       "      <td>9720.000000</td>\n",
       "      <td>9720.000000</td>\n",
       "      <td>9720.000000</td>\n",
       "      <td>9720.000000</td>\n",
       "      <td>9720.000000</td>\n",
       "      <td>...</td>\n",
       "      <td>9720.000000</td>\n",
       "      <td>9720.000000</td>\n",
       "      <td>9720.000000</td>\n",
       "      <td>9720.000000</td>\n",
       "      <td>9720.000000</td>\n",
       "      <td>9720.00000</td>\n",
       "      <td>9720.000000</td>\n",
       "      <td>9720.000000</td>\n",
       "      <td>9720.000000</td>\n",
       "      <td>9720.000000</td>\n",
       "    </tr>\n",
       "    <tr>\n",
       "      <th>mean</th>\n",
       "      <td>4936.131276</td>\n",
       "      <td>19743.025103</td>\n",
       "      <td>7.972634</td>\n",
       "      <td>7.997737</td>\n",
       "      <td>3.006996</td>\n",
       "      <td>2.495576</td>\n",
       "      <td>2.502984</td>\n",
       "      <td>0.249095</td>\n",
       "      <td>8.007407</td>\n",
       "      <td>7.937449</td>\n",
       "      <td>...</td>\n",
       "      <td>206.288477</td>\n",
       "      <td>702.665432</td>\n",
       "      <td>1937.691427</td>\n",
       "      <td>3800.628807</td>\n",
       "      <td>823.193827</td>\n",
       "      <td>41.37572</td>\n",
       "      <td>617.895885</td>\n",
       "      <td>1564.486831</td>\n",
       "      <td>41.310700</td>\n",
       "      <td>41.247737</td>\n",
       "    </tr>\n",
       "    <tr>\n",
       "      <th>std</th>\n",
       "      <td>2791.776351</td>\n",
       "      <td>11167.105459</td>\n",
       "      <td>4.943312</td>\n",
       "      <td>4.969792</td>\n",
       "      <td>1.581009</td>\n",
       "      <td>1.121941</td>\n",
       "      <td>1.110794</td>\n",
       "      <td>0.111187</td>\n",
       "      <td>4.937217</td>\n",
       "      <td>4.933491</td>\n",
       "      <td>...</td>\n",
       "      <td>4531.586747</td>\n",
       "      <td>8084.394737</td>\n",
       "      <td>13772.314585</td>\n",
       "      <td>19083.662381</td>\n",
       "      <td>9035.133163</td>\n",
       "      <td>2028.26417</td>\n",
       "      <td>7832.731177</td>\n",
       "      <td>12407.404755</td>\n",
       "      <td>2028.265479</td>\n",
       "      <td>2028.266745</td>\n",
       "    </tr>\n",
       "    <tr>\n",
       "      <th>min</th>\n",
       "      <td>2.000000</td>\n",
       "      <td>5.000000</td>\n",
       "      <td>2.000000</td>\n",
       "      <td>2.000000</td>\n",
       "      <td>1.000000</td>\n",
       "      <td>1.000000</td>\n",
       "      <td>1.000000</td>\n",
       "      <td>0.100000</td>\n",
       "      <td>2.000000</td>\n",
       "      <td>2.000000</td>\n",
       "      <td>...</td>\n",
       "      <td>0.000000</td>\n",
       "      <td>18.000000</td>\n",
       "      <td>1.000000</td>\n",
       "      <td>8.000000</td>\n",
       "      <td>0.000000</td>\n",
       "      <td>0.00000</td>\n",
       "      <td>0.000000</td>\n",
       "      <td>0.000000</td>\n",
       "      <td>0.000000</td>\n",
       "      <td>0.000000</td>\n",
       "    </tr>\n",
       "    <tr>\n",
       "      <th>25%</th>\n",
       "      <td>2541.000000</td>\n",
       "      <td>10162.750000</td>\n",
       "      <td>2.000000</td>\n",
       "      <td>2.000000</td>\n",
       "      <td>2.000000</td>\n",
       "      <td>1.000000</td>\n",
       "      <td>2.000000</td>\n",
       "      <td>0.200000</td>\n",
       "      <td>5.000000</td>\n",
       "      <td>2.000000</td>\n",
       "      <td>...</td>\n",
       "      <td>0.000000</td>\n",
       "      <td>34.000000</td>\n",
       "      <td>3.166667</td>\n",
       "      <td>13.000000</td>\n",
       "      <td>0.000000</td>\n",
       "      <td>0.00000</td>\n",
       "      <td>0.000000</td>\n",
       "      <td>0.000000</td>\n",
       "      <td>0.000000</td>\n",
       "      <td>0.000000</td>\n",
       "    </tr>\n",
       "    <tr>\n",
       "      <th>50%</th>\n",
       "      <td>5003.500000</td>\n",
       "      <td>20012.500000</td>\n",
       "      <td>5.000000</td>\n",
       "      <td>5.000000</td>\n",
       "      <td>4.000000</td>\n",
       "      <td>3.000000</td>\n",
       "      <td>3.000000</td>\n",
       "      <td>0.200000</td>\n",
       "      <td>10.000000</td>\n",
       "      <td>5.000000</td>\n",
       "      <td>...</td>\n",
       "      <td>1.000000</td>\n",
       "      <td>44.000000</td>\n",
       "      <td>3.666667</td>\n",
       "      <td>16.500000</td>\n",
       "      <td>0.000000</td>\n",
       "      <td>0.00000</td>\n",
       "      <td>1.000000</td>\n",
       "      <td>1.000000</td>\n",
       "      <td>0.000000</td>\n",
       "      <td>0.000000</td>\n",
       "    </tr>\n",
       "    <tr>\n",
       "      <th>75%</th>\n",
       "      <td>7305.000000</td>\n",
       "      <td>29218.250000</td>\n",
       "      <td>10.000000</td>\n",
       "      <td>15.000000</td>\n",
       "      <td>5.000000</td>\n",
       "      <td>3.000000</td>\n",
       "      <td>3.000000</td>\n",
       "      <td>0.300000</td>\n",
       "      <td>10.000000</td>\n",
       "      <td>10.000000</td>\n",
       "      <td>...</td>\n",
       "      <td>1.000000</td>\n",
       "      <td>56.000000</td>\n",
       "      <td>4.166667</td>\n",
       "      <td>18.000000</td>\n",
       "      <td>0.000000</td>\n",
       "      <td>0.00000</td>\n",
       "      <td>1.000000</td>\n",
       "      <td>1.000000</td>\n",
       "      <td>0.000000</td>\n",
       "      <td>0.000000</td>\n",
       "    </tr>\n",
       "    <tr>\n",
       "      <th>max</th>\n",
       "      <td>9825.000000</td>\n",
       "      <td>39300.000000</td>\n",
       "      <td>15.000000</td>\n",
       "      <td>15.000000</td>\n",
       "      <td>5.000000</td>\n",
       "      <td>4.000000</td>\n",
       "      <td>4.000000</td>\n",
       "      <td>0.400000</td>\n",
       "      <td>15.000000</td>\n",
       "      <td>15.000000</td>\n",
       "      <td>...</td>\n",
       "      <td>99999.000000</td>\n",
       "      <td>99999.000000</td>\n",
       "      <td>99999.000000</td>\n",
       "      <td>99999.000000</td>\n",
       "      <td>99999.000000</td>\n",
       "      <td>99999.00000</td>\n",
       "      <td>99999.000000</td>\n",
       "      <td>99999.000000</td>\n",
       "      <td>99999.000000</td>\n",
       "      <td>99999.000000</td>\n",
       "    </tr>\n",
       "  </tbody>\n",
       "</table>\n",
       "<p>8 rows × 32 columns</p>\n",
       "</div>"
      ],
      "text/plain": [
       "                ID       TASK_ID      STORES1   TRANSPORT1        CITY1  \\\n",
       "count  9720.000000   9720.000000  9720.000000  9720.000000  9720.000000   \n",
       "mean   4936.131276  19743.025103     7.972634     7.997737     3.006996   \n",
       "std    2791.776351  11167.105459     4.943312     4.969792     1.581009   \n",
       "min       2.000000      5.000000     2.000000     2.000000     1.000000   \n",
       "25%    2541.000000  10162.750000     2.000000     2.000000     2.000000   \n",
       "50%    5003.500000  20012.500000     5.000000     5.000000     4.000000   \n",
       "75%    7305.000000  29218.250000    10.000000    15.000000     5.000000   \n",
       "max    9825.000000  39300.000000    15.000000    15.000000     5.000000   \n",
       "\n",
       "            NOISE1       GREEN1     FOREIGN1      STORES2   TRANSPORT2  ...  \\\n",
       "count  9720.000000  9720.000000  9720.000000  9720.000000  9720.000000  ...   \n",
       "mean      2.495576     2.502984     0.249095     8.007407     7.937449  ...   \n",
       "std       1.121941     1.110794     0.111187     4.937217     4.933491  ...   \n",
       "min       1.000000     1.000000     0.100000     2.000000     2.000000  ...   \n",
       "25%       1.000000     2.000000     0.200000     5.000000     2.000000  ...   \n",
       "50%       3.000000     3.000000     0.200000    10.000000     5.000000  ...   \n",
       "75%       3.000000     3.000000     0.300000    10.000000    10.000000  ...   \n",
       "max       4.000000     4.000000     0.400000    15.000000    15.000000  ...   \n",
       "\n",
       "              WOMAN           AGE       ENVCONC      EDUYEARS   RESPFOREIGN  \\\n",
       "count   9720.000000   9720.000000   9720.000000   9720.000000   9720.000000   \n",
       "mean     206.288477    702.665432   1937.691427   3800.628807    823.193827   \n",
       "std     4531.586747   8084.394737  13772.314585  19083.662381   9035.133163   \n",
       "min        0.000000     18.000000      1.000000      8.000000      0.000000   \n",
       "25%        0.000000     34.000000      3.166667     13.000000      0.000000   \n",
       "50%        1.000000     44.000000      3.666667     16.500000      0.000000   \n",
       "75%        1.000000     56.000000      4.166667     18.000000      0.000000   \n",
       "max    99999.000000  99999.000000  99999.000000  99999.000000  99999.000000   \n",
       "\n",
       "         HOMEOWNER      CAROWNER           JOB    NONWESTERN       WESTERN  \n",
       "count   9720.00000   9720.000000   9720.000000   9720.000000   9720.000000  \n",
       "mean      41.37572    617.895885   1564.486831     41.310700     41.247737  \n",
       "std     2028.26417   7832.731177  12407.404755   2028.265479   2028.266745  \n",
       "min        0.00000      0.000000      0.000000      0.000000      0.000000  \n",
       "25%        0.00000      0.000000      0.000000      0.000000      0.000000  \n",
       "50%        0.00000      1.000000      1.000000      0.000000      0.000000  \n",
       "75%        0.00000      1.000000      1.000000      0.000000      0.000000  \n",
       "max    99999.00000  99999.000000  99999.000000  99999.000000  99999.000000  \n",
       "\n",
       "[8 rows x 32 columns]"
      ]
     },
     "execution_count": 65,
     "metadata": {},
     "output_type": "execute_result"
    }
   ],
   "source": [
    "df.describe()"
   ]
  },
  {
   "cell_type": "markdown",
   "metadata": {},
   "source": [
    "La tabla de arriba proporciona información importante sobre las variables de la base de datos. El promedio y la desviación estándar (std) de algunas variables son altas. Por ejemplo, los valores medios de `WOMAN`, `AGE`, `EDUYEARS` son bastante más altos de lo esperado según la descripción de las variables. Esto podría indicar problemas en el conjunto de datos, la presencia de valores atípicos o valores perdidos. En la tabla anterior, puede verse que el número `99999` no coincide con los valores habituales de variables como `WOMEN`, `AGE` y `others`.<br>\n",
    "\n",
    "Esto sugiere que el valor `99999` se ha utilizado para representar `valores perdidos` en el conjunto de datos."
   ]
  },
  {
   "cell_type": "markdown",
   "metadata": {},
   "source": [
    "**`Conjunto de datos para la estimación`**<br>\n",
    "\n",
    "Dado nuestro objetivo de investigar el impacto de la edad, el sexo, la propiedad de la vivienda, la propiedad de un auto y la urbanización, tenemos que trabajar con las filas de los datos con valores que faltan en estas columnas. Afortunadamente, la proporción de datos que faltan en estas columnas es relativamente pequeña. Por lo tanto, una estrategia razonable en este caso es simplemente eliminar las filas de datos con valores que faltan en estas columnas. Otra estrategia podría haber sido imputar los valores de la media. Sin embargo, esta estrategia también tiene sus desventajas."
   ]
  },
  {
   "cell_type": "code",
   "execution_count": 66,
   "metadata": {},
   "outputs": [
    {
     "data": {
      "text/html": [
       "<div>\n",
       "<style scoped>\n",
       "    .dataframe tbody tr th:only-of-type {\n",
       "        vertical-align: middle;\n",
       "    }\n",
       "\n",
       "    .dataframe tbody tr th {\n",
       "        vertical-align: top;\n",
       "    }\n",
       "\n",
       "    .dataframe thead th {\n",
       "        text-align: right;\n",
       "    }\n",
       "</style>\n",
       "<table border=\"1\" class=\"dataframe\">\n",
       "  <thead>\n",
       "    <tr style=\"text-align: right;\">\n",
       "      <th></th>\n",
       "      <th>ID</th>\n",
       "      <th>TASK_ID</th>\n",
       "      <th>STORES1</th>\n",
       "      <th>TRANSPORT1</th>\n",
       "      <th>CITY1</th>\n",
       "      <th>NOISE1</th>\n",
       "      <th>GREEN1</th>\n",
       "      <th>FOREIGN1</th>\n",
       "      <th>STORES2</th>\n",
       "      <th>TRANSPORT2</th>\n",
       "      <th>...</th>\n",
       "      <th>FOREIGN3</th>\n",
       "      <th>AGE</th>\n",
       "      <th>WOMAN</th>\n",
       "      <th>HOMEOWNER</th>\n",
       "      <th>CAROWNER</th>\n",
       "      <th>RESPCITY</th>\n",
       "      <th>JOB</th>\n",
       "      <th>EDUYEARS</th>\n",
       "      <th>ENVCONC</th>\n",
       "      <th>CHOICE</th>\n",
       "    </tr>\n",
       "  </thead>\n",
       "  <tbody>\n",
       "    <tr>\n",
       "      <th>count</th>\n",
       "      <td>9032.000000</td>\n",
       "      <td>9032.000000</td>\n",
       "      <td>9032.000000</td>\n",
       "      <td>9032.000000</td>\n",
       "      <td>9032.000000</td>\n",
       "      <td>9032.000000</td>\n",
       "      <td>9032.000000</td>\n",
       "      <td>9032.000000</td>\n",
       "      <td>9032.000000</td>\n",
       "      <td>9032.000000</td>\n",
       "      <td>...</td>\n",
       "      <td>9032.000000</td>\n",
       "      <td>9032.000000</td>\n",
       "      <td>9032.000000</td>\n",
       "      <td>9032.000000</td>\n",
       "      <td>9032.000000</td>\n",
       "      <td>9032.000000</td>\n",
       "      <td>9032.000000</td>\n",
       "      <td>9032.000000</td>\n",
       "      <td>9032.000000</td>\n",
       "      <td>9032.000000</td>\n",
       "    </tr>\n",
       "    <tr>\n",
       "      <th>mean</th>\n",
       "      <td>4938.589460</td>\n",
       "      <td>19752.857839</td>\n",
       "      <td>7.981842</td>\n",
       "      <td>7.978299</td>\n",
       "      <td>3.007418</td>\n",
       "      <td>2.496678</td>\n",
       "      <td>2.503432</td>\n",
       "      <td>0.249302</td>\n",
       "      <td>8.002214</td>\n",
       "      <td>7.948406</td>\n",
       "      <td>...</td>\n",
       "      <td>0.250498</td>\n",
       "      <td>44.530115</td>\n",
       "      <td>0.532329</td>\n",
       "      <td>0.224092</td>\n",
       "      <td>0.624004</td>\n",
       "      <td>2.614703</td>\n",
       "      <td>0.735607</td>\n",
       "      <td>15.254650</td>\n",
       "      <td>3.625000</td>\n",
       "      <td>1.958924</td>\n",
       "    </tr>\n",
       "    <tr>\n",
       "      <th>std</th>\n",
       "      <td>2798.272394</td>\n",
       "      <td>11193.089632</td>\n",
       "      <td>4.945691</td>\n",
       "      <td>4.966099</td>\n",
       "      <td>1.581524</td>\n",
       "      <td>1.121651</td>\n",
       "      <td>1.112332</td>\n",
       "      <td>0.111112</td>\n",
       "      <td>4.939272</td>\n",
       "      <td>4.931868</td>\n",
       "      <td>...</td>\n",
       "      <td>0.112500</td>\n",
       "      <td>13.463328</td>\n",
       "      <td>0.498981</td>\n",
       "      <td>0.417006</td>\n",
       "      <td>0.484406</td>\n",
       "      <td>1.108207</td>\n",
       "      <td>0.441034</td>\n",
       "      <td>2.702097</td>\n",
       "      <td>0.771467</td>\n",
       "      <td>0.813718</td>\n",
       "    </tr>\n",
       "    <tr>\n",
       "      <th>min</th>\n",
       "      <td>2.000000</td>\n",
       "      <td>5.000000</td>\n",
       "      <td>2.000000</td>\n",
       "      <td>2.000000</td>\n",
       "      <td>1.000000</td>\n",
       "      <td>1.000000</td>\n",
       "      <td>1.000000</td>\n",
       "      <td>0.100000</td>\n",
       "      <td>2.000000</td>\n",
       "      <td>2.000000</td>\n",
       "      <td>...</td>\n",
       "      <td>0.100000</td>\n",
       "      <td>18.000000</td>\n",
       "      <td>0.000000</td>\n",
       "      <td>0.000000</td>\n",
       "      <td>0.000000</td>\n",
       "      <td>1.000000</td>\n",
       "      <td>0.000000</td>\n",
       "      <td>8.000000</td>\n",
       "      <td>1.000000</td>\n",
       "      <td>1.000000</td>\n",
       "    </tr>\n",
       "    <tr>\n",
       "      <th>25%</th>\n",
       "      <td>2535.000000</td>\n",
       "      <td>10138.750000</td>\n",
       "      <td>5.000000</td>\n",
       "      <td>2.000000</td>\n",
       "      <td>2.000000</td>\n",
       "      <td>1.000000</td>\n",
       "      <td>2.000000</td>\n",
       "      <td>0.200000</td>\n",
       "      <td>5.000000</td>\n",
       "      <td>2.000000</td>\n",
       "      <td>...</td>\n",
       "      <td>0.100000</td>\n",
       "      <td>33.000000</td>\n",
       "      <td>0.000000</td>\n",
       "      <td>0.000000</td>\n",
       "      <td>0.000000</td>\n",
       "      <td>2.000000</td>\n",
       "      <td>0.000000</td>\n",
       "      <td>13.000000</td>\n",
       "      <td>3.166667</td>\n",
       "      <td>1.000000</td>\n",
       "    </tr>\n",
       "    <tr>\n",
       "      <th>50%</th>\n",
       "      <td>5032.500000</td>\n",
       "      <td>20128.500000</td>\n",
       "      <td>5.000000</td>\n",
       "      <td>5.000000</td>\n",
       "      <td>4.000000</td>\n",
       "      <td>3.000000</td>\n",
       "      <td>3.000000</td>\n",
       "      <td>0.200000</td>\n",
       "      <td>10.000000</td>\n",
       "      <td>5.000000</td>\n",
       "      <td>...</td>\n",
       "      <td>0.300000</td>\n",
       "      <td>44.000000</td>\n",
       "      <td>1.000000</td>\n",
       "      <td>0.000000</td>\n",
       "      <td>1.000000</td>\n",
       "      <td>3.000000</td>\n",
       "      <td>1.000000</td>\n",
       "      <td>16.000000</td>\n",
       "      <td>3.666667</td>\n",
       "      <td>2.000000</td>\n",
       "    </tr>\n",
       "    <tr>\n",
       "      <th>75%</th>\n",
       "      <td>7335.000000</td>\n",
       "      <td>29338.250000</td>\n",
       "      <td>10.000000</td>\n",
       "      <td>15.000000</td>\n",
       "      <td>5.000000</td>\n",
       "      <td>4.000000</td>\n",
       "      <td>3.000000</td>\n",
       "      <td>0.300000</td>\n",
       "      <td>10.000000</td>\n",
       "      <td>10.000000</td>\n",
       "      <td>...</td>\n",
       "      <td>0.400000</td>\n",
       "      <td>56.000000</td>\n",
       "      <td>1.000000</td>\n",
       "      <td>0.000000</td>\n",
       "      <td>1.000000</td>\n",
       "      <td>4.000000</td>\n",
       "      <td>1.000000</td>\n",
       "      <td>18.000000</td>\n",
       "      <td>4.166667</td>\n",
       "      <td>3.000000</td>\n",
       "    </tr>\n",
       "    <tr>\n",
       "      <th>max</th>\n",
       "      <td>9813.000000</td>\n",
       "      <td>39252.000000</td>\n",
       "      <td>15.000000</td>\n",
       "      <td>15.000000</td>\n",
       "      <td>5.000000</td>\n",
       "      <td>4.000000</td>\n",
       "      <td>4.000000</td>\n",
       "      <td>0.400000</td>\n",
       "      <td>15.000000</td>\n",
       "      <td>15.000000</td>\n",
       "      <td>...</td>\n",
       "      <td>0.400000</td>\n",
       "      <td>70.000000</td>\n",
       "      <td>1.000000</td>\n",
       "      <td>1.000000</td>\n",
       "      <td>1.000000</td>\n",
       "      <td>4.000000</td>\n",
       "      <td>1.000000</td>\n",
       "      <td>18.000000</td>\n",
       "      <td>5.000000</td>\n",
       "      <td>3.000000</td>\n",
       "    </tr>\n",
       "  </tbody>\n",
       "</table>\n",
       "<p>8 rows × 29 columns</p>\n",
       "</div>"
      ],
      "text/plain": [
       "                ID       TASK_ID      STORES1   TRANSPORT1        CITY1  \\\n",
       "count  9032.000000   9032.000000  9032.000000  9032.000000  9032.000000   \n",
       "mean   4938.589460  19752.857839     7.981842     7.978299     3.007418   \n",
       "std    2798.272394  11193.089632     4.945691     4.966099     1.581524   \n",
       "min       2.000000      5.000000     2.000000     2.000000     1.000000   \n",
       "25%    2535.000000  10138.750000     5.000000     2.000000     2.000000   \n",
       "50%    5032.500000  20128.500000     5.000000     5.000000     4.000000   \n",
       "75%    7335.000000  29338.250000    10.000000    15.000000     5.000000   \n",
       "max    9813.000000  39252.000000    15.000000    15.000000     5.000000   \n",
       "\n",
       "            NOISE1       GREEN1     FOREIGN1      STORES2   TRANSPORT2  ...  \\\n",
       "count  9032.000000  9032.000000  9032.000000  9032.000000  9032.000000  ...   \n",
       "mean      2.496678     2.503432     0.249302     8.002214     7.948406  ...   \n",
       "std       1.121651     1.112332     0.111112     4.939272     4.931868  ...   \n",
       "min       1.000000     1.000000     0.100000     2.000000     2.000000  ...   \n",
       "25%       1.000000     2.000000     0.200000     5.000000     2.000000  ...   \n",
       "50%       3.000000     3.000000     0.200000    10.000000     5.000000  ...   \n",
       "75%       4.000000     3.000000     0.300000    10.000000    10.000000  ...   \n",
       "max       4.000000     4.000000     0.400000    15.000000    15.000000  ...   \n",
       "\n",
       "          FOREIGN3          AGE        WOMAN    HOMEOWNER     CAROWNER  \\\n",
       "count  9032.000000  9032.000000  9032.000000  9032.000000  9032.000000   \n",
       "mean      0.250498    44.530115     0.532329     0.224092     0.624004   \n",
       "std       0.112500    13.463328     0.498981     0.417006     0.484406   \n",
       "min       0.100000    18.000000     0.000000     0.000000     0.000000   \n",
       "25%       0.100000    33.000000     0.000000     0.000000     0.000000   \n",
       "50%       0.300000    44.000000     1.000000     0.000000     1.000000   \n",
       "75%       0.400000    56.000000     1.000000     0.000000     1.000000   \n",
       "max       0.400000    70.000000     1.000000     1.000000     1.000000   \n",
       "\n",
       "          RESPCITY          JOB     EDUYEARS      ENVCONC       CHOICE  \n",
       "count  9032.000000  9032.000000  9032.000000  9032.000000  9032.000000  \n",
       "mean      2.614703     0.735607    15.254650     3.625000     1.958924  \n",
       "std       1.108207     0.441034     2.702097     0.771467     0.813718  \n",
       "min       1.000000     0.000000     8.000000     1.000000     1.000000  \n",
       "25%       2.000000     0.000000    13.000000     3.166667     1.000000  \n",
       "50%       3.000000     1.000000    16.000000     3.666667     2.000000  \n",
       "75%       4.000000     1.000000    18.000000     4.166667     3.000000  \n",
       "max       4.000000     1.000000    18.000000     5.000000     3.000000  \n",
       "\n",
       "[8 rows x 29 columns]"
      ]
     },
     "execution_count": 66,
     "metadata": {},
     "output_type": "execute_result"
    }
   ],
   "source": [
    "#lista de características relevantes\n",
    "id         = ['ID', 'TASK_ID' ]\n",
    "attributes =   ['STORES1', 'TRANSPORT1', 'CITY1', 'NOISE1', 'GREEN1', 'FOREIGN1', \n",
    "                'STORES2', 'TRANSPORT2', 'CITY2', 'NOISE2', 'GREEN2', 'FOREIGN2',\n",
    "                'STORES3', 'TRANSPORT3', 'CITY3', 'NOISE3', 'GREEN3', 'FOREIGN3']\n",
    "\n",
    "sociovars = ['AGE','WOMAN','HOMEOWNER','CAROWNER','RESPCITY', 'JOB', 'EDUYEARS', 'ENVCONC']\n",
    "\n",
    "# Crear una nueva instancia del dataframe, con los atributos, las variables socio-demográficas y la elección.\n",
    "dff = df[ id + attributes + sociovars + ['CHOICE']].copy()\n",
    "\n",
    "# Reemplazar 9999 por NaN\n",
    "dff = dff.replace(99999, np.nan)\n",
    "\n",
    "# Eliminar las filas con datos que faltan en las características relevantes\n",
    "dff = dff.dropna(subset=sociovars, how='any')\n",
    "\n",
    "dff.describe()"
   ]
  },
  {
   "cell_type": "markdown",
   "metadata": {},
   "source": [
    "Recodificar las variables sociodemográficas categóricas"
   ]
  },
  {
   "cell_type": "code",
   "execution_count": 67,
   "metadata": {},
   "outputs": [],
   "source": [
    "# Crear un dataframe con las variables socio demográficas relevantes\n",
    "df_sociovars  = dff[sociovars].astype(int)\n",
    "\n",
    "# Recodificar 'AGE' \n",
    "df_sociovars.loc[(      df_sociovars['AGE'] < 25), 'AGE'] = 1\n",
    "df_sociovars.loc[(25 <= df_sociovars['AGE']     ) &\n",
    "                 (      df_sociovars['AGE'] < 60), 'AGE'] = 2\n",
    "df_sociovars.loc[(60 <= df_sociovars['AGE']     ), 'AGE'] = 3\n",
    "\n",
    "# Recodificar 'EDUYEARS'\n",
    "df_sociovars.loc[(      df_sociovars['EDUYEARS'] < 10), 'EDUYEARS'] = 1\n",
    "df_sociovars.loc[(10 <= df_sociovars['EDUYEARS']     ) & \n",
    "                 (      df_sociovars['EDUYEARS'] < 14), 'EDUYEARS'] = 2\n",
    "df_sociovars.loc[(14 <= df_sociovars['EDUYEARS']     ), 'EDUYEARS'] = 3\n",
    "\n",
    "# Recodificar\n",
    "df_sociovars.loc[(     df_sociovars['ENVCONC'] < 3), 'ENVCONC'] = 1\n",
    "df_sociovars.loc[(3 <= df_sociovars['ENVCONC']    ) & \n",
    "                 (     df_sociovars['ENVCONC'] < 4), 'ENVCONC'] = 2\n",
    "df_sociovars.loc[(4 <= df_sociovars['ENVCONC']    ), 'ENVCONC'] = 3\n",
    "\n",
    "#Convertir variables categóricas en variables dummies utilizando pd.get_dummies()\n",
    "df_sociovars = pd.get_dummies(data = df_sociovars, prefix = sociovars, prefix_sep='_', columns = sociovars, drop_first = True, dtype=int)\n",
    "\n",
    "# Crear una variable con los nombres de las variables sociodemográficas\n",
    "features_socio = df_sociovars.columns.tolist()"
   ]
  },
  {
   "cell_type": "markdown",
   "metadata": {},
   "source": [
    "Por último, cree el dataframe para el entrenamiento, que contiene el «ID», la «CHOICE», los atributos y las variables sociodemográficas codificados como dummies."
   ]
  },
  {
   "cell_type": "code",
   "execution_count": 68,
   "metadata": {},
   "outputs": [
    {
     "name": "stdout",
     "output_type": "stream",
     "text": [
      "(9032, 33)\n"
     ]
    },
    {
     "data": {
      "text/html": [
       "<div>\n",
       "<style scoped>\n",
       "    .dataframe tbody tr th:only-of-type {\n",
       "        vertical-align: middle;\n",
       "    }\n",
       "\n",
       "    .dataframe tbody tr th {\n",
       "        vertical-align: top;\n",
       "    }\n",
       "\n",
       "    .dataframe thead th {\n",
       "        text-align: right;\n",
       "    }\n",
       "</style>\n",
       "<table border=\"1\" class=\"dataframe\">\n",
       "  <thead>\n",
       "    <tr style=\"text-align: right;\">\n",
       "      <th></th>\n",
       "      <th>ID</th>\n",
       "      <th>CHOICE</th>\n",
       "      <th>STORES1</th>\n",
       "      <th>TRANSPORT1</th>\n",
       "      <th>CITY1</th>\n",
       "      <th>NOISE1</th>\n",
       "      <th>GREEN1</th>\n",
       "      <th>FOREIGN1</th>\n",
       "      <th>STORES2</th>\n",
       "      <th>TRANSPORT2</th>\n",
       "      <th>...</th>\n",
       "      <th>HOMEOWNER_1</th>\n",
       "      <th>CAROWNER_1</th>\n",
       "      <th>RESPCITY_2</th>\n",
       "      <th>RESPCITY_3</th>\n",
       "      <th>RESPCITY_4</th>\n",
       "      <th>JOB_1</th>\n",
       "      <th>EDUYEARS_2</th>\n",
       "      <th>EDUYEARS_3</th>\n",
       "      <th>ENVCONC_2</th>\n",
       "      <th>ENVCONC_3</th>\n",
       "    </tr>\n",
       "  </thead>\n",
       "  <tbody>\n",
       "    <tr>\n",
       "      <th>count</th>\n",
       "      <td>9032.000000</td>\n",
       "      <td>9032.000000</td>\n",
       "      <td>9032.000000</td>\n",
       "      <td>9032.000000</td>\n",
       "      <td>9032.000000</td>\n",
       "      <td>9032.000000</td>\n",
       "      <td>9032.000000</td>\n",
       "      <td>9032.000000</td>\n",
       "      <td>9032.000000</td>\n",
       "      <td>9032.000000</td>\n",
       "      <td>...</td>\n",
       "      <td>9032.000000</td>\n",
       "      <td>9032.000000</td>\n",
       "      <td>9032.000000</td>\n",
       "      <td>9032.000000</td>\n",
       "      <td>9032.000000</td>\n",
       "      <td>9032.000000</td>\n",
       "      <td>9032.000000</td>\n",
       "      <td>9032.000000</td>\n",
       "      <td>9032.00000</td>\n",
       "      <td>9032.000000</td>\n",
       "    </tr>\n",
       "    <tr>\n",
       "      <th>mean</th>\n",
       "      <td>4938.589460</td>\n",
       "      <td>1.958924</td>\n",
       "      <td>7.981842</td>\n",
       "      <td>7.978299</td>\n",
       "      <td>3.007418</td>\n",
       "      <td>2.496678</td>\n",
       "      <td>2.503432</td>\n",
       "      <td>0.249302</td>\n",
       "      <td>8.002214</td>\n",
       "      <td>7.948406</td>\n",
       "      <td>...</td>\n",
       "      <td>0.224092</td>\n",
       "      <td>0.624004</td>\n",
       "      <td>0.176705</td>\n",
       "      <td>0.327724</td>\n",
       "      <td>0.260850</td>\n",
       "      <td>0.735607</td>\n",
       "      <td>0.323295</td>\n",
       "      <td>0.643047</td>\n",
       "      <td>0.44597</td>\n",
       "      <td>0.370682</td>\n",
       "    </tr>\n",
       "    <tr>\n",
       "      <th>std</th>\n",
       "      <td>2798.272394</td>\n",
       "      <td>0.813718</td>\n",
       "      <td>4.945691</td>\n",
       "      <td>4.966099</td>\n",
       "      <td>1.581524</td>\n",
       "      <td>1.121651</td>\n",
       "      <td>1.112332</td>\n",
       "      <td>0.111112</td>\n",
       "      <td>4.939272</td>\n",
       "      <td>4.931868</td>\n",
       "      <td>...</td>\n",
       "      <td>0.417006</td>\n",
       "      <td>0.484406</td>\n",
       "      <td>0.381440</td>\n",
       "      <td>0.469409</td>\n",
       "      <td>0.439123</td>\n",
       "      <td>0.441034</td>\n",
       "      <td>0.467760</td>\n",
       "      <td>0.479127</td>\n",
       "      <td>0.49710</td>\n",
       "      <td>0.483014</td>\n",
       "    </tr>\n",
       "    <tr>\n",
       "      <th>min</th>\n",
       "      <td>2.000000</td>\n",
       "      <td>1.000000</td>\n",
       "      <td>2.000000</td>\n",
       "      <td>2.000000</td>\n",
       "      <td>1.000000</td>\n",
       "      <td>1.000000</td>\n",
       "      <td>1.000000</td>\n",
       "      <td>0.100000</td>\n",
       "      <td>2.000000</td>\n",
       "      <td>2.000000</td>\n",
       "      <td>...</td>\n",
       "      <td>0.000000</td>\n",
       "      <td>0.000000</td>\n",
       "      <td>0.000000</td>\n",
       "      <td>0.000000</td>\n",
       "      <td>0.000000</td>\n",
       "      <td>0.000000</td>\n",
       "      <td>0.000000</td>\n",
       "      <td>0.000000</td>\n",
       "      <td>0.00000</td>\n",
       "      <td>0.000000</td>\n",
       "    </tr>\n",
       "    <tr>\n",
       "      <th>25%</th>\n",
       "      <td>2535.000000</td>\n",
       "      <td>1.000000</td>\n",
       "      <td>5.000000</td>\n",
       "      <td>2.000000</td>\n",
       "      <td>2.000000</td>\n",
       "      <td>1.000000</td>\n",
       "      <td>2.000000</td>\n",
       "      <td>0.200000</td>\n",
       "      <td>5.000000</td>\n",
       "      <td>2.000000</td>\n",
       "      <td>...</td>\n",
       "      <td>0.000000</td>\n",
       "      <td>0.000000</td>\n",
       "      <td>0.000000</td>\n",
       "      <td>0.000000</td>\n",
       "      <td>0.000000</td>\n",
       "      <td>0.000000</td>\n",
       "      <td>0.000000</td>\n",
       "      <td>0.000000</td>\n",
       "      <td>0.00000</td>\n",
       "      <td>0.000000</td>\n",
       "    </tr>\n",
       "    <tr>\n",
       "      <th>50%</th>\n",
       "      <td>5032.500000</td>\n",
       "      <td>2.000000</td>\n",
       "      <td>5.000000</td>\n",
       "      <td>5.000000</td>\n",
       "      <td>4.000000</td>\n",
       "      <td>3.000000</td>\n",
       "      <td>3.000000</td>\n",
       "      <td>0.200000</td>\n",
       "      <td>10.000000</td>\n",
       "      <td>5.000000</td>\n",
       "      <td>...</td>\n",
       "      <td>0.000000</td>\n",
       "      <td>1.000000</td>\n",
       "      <td>0.000000</td>\n",
       "      <td>0.000000</td>\n",
       "      <td>0.000000</td>\n",
       "      <td>1.000000</td>\n",
       "      <td>0.000000</td>\n",
       "      <td>1.000000</td>\n",
       "      <td>0.00000</td>\n",
       "      <td>0.000000</td>\n",
       "    </tr>\n",
       "    <tr>\n",
       "      <th>75%</th>\n",
       "      <td>7335.000000</td>\n",
       "      <td>3.000000</td>\n",
       "      <td>10.000000</td>\n",
       "      <td>15.000000</td>\n",
       "      <td>5.000000</td>\n",
       "      <td>4.000000</td>\n",
       "      <td>3.000000</td>\n",
       "      <td>0.300000</td>\n",
       "      <td>10.000000</td>\n",
       "      <td>10.000000</td>\n",
       "      <td>...</td>\n",
       "      <td>0.000000</td>\n",
       "      <td>1.000000</td>\n",
       "      <td>0.000000</td>\n",
       "      <td>1.000000</td>\n",
       "      <td>1.000000</td>\n",
       "      <td>1.000000</td>\n",
       "      <td>1.000000</td>\n",
       "      <td>1.000000</td>\n",
       "      <td>1.00000</td>\n",
       "      <td>1.000000</td>\n",
       "    </tr>\n",
       "    <tr>\n",
       "      <th>max</th>\n",
       "      <td>9813.000000</td>\n",
       "      <td>3.000000</td>\n",
       "      <td>15.000000</td>\n",
       "      <td>15.000000</td>\n",
       "      <td>5.000000</td>\n",
       "      <td>4.000000</td>\n",
       "      <td>4.000000</td>\n",
       "      <td>0.400000</td>\n",
       "      <td>15.000000</td>\n",
       "      <td>15.000000</td>\n",
       "      <td>...</td>\n",
       "      <td>1.000000</td>\n",
       "      <td>1.000000</td>\n",
       "      <td>1.000000</td>\n",
       "      <td>1.000000</td>\n",
       "      <td>1.000000</td>\n",
       "      <td>1.000000</td>\n",
       "      <td>1.000000</td>\n",
       "      <td>1.000000</td>\n",
       "      <td>1.00000</td>\n",
       "      <td>1.000000</td>\n",
       "    </tr>\n",
       "  </tbody>\n",
       "</table>\n",
       "<p>8 rows × 33 columns</p>\n",
       "</div>"
      ],
      "text/plain": [
       "                ID       CHOICE      STORES1   TRANSPORT1        CITY1  \\\n",
       "count  9032.000000  9032.000000  9032.000000  9032.000000  9032.000000   \n",
       "mean   4938.589460     1.958924     7.981842     7.978299     3.007418   \n",
       "std    2798.272394     0.813718     4.945691     4.966099     1.581524   \n",
       "min       2.000000     1.000000     2.000000     2.000000     1.000000   \n",
       "25%    2535.000000     1.000000     5.000000     2.000000     2.000000   \n",
       "50%    5032.500000     2.000000     5.000000     5.000000     4.000000   \n",
       "75%    7335.000000     3.000000    10.000000    15.000000     5.000000   \n",
       "max    9813.000000     3.000000    15.000000    15.000000     5.000000   \n",
       "\n",
       "            NOISE1       GREEN1     FOREIGN1      STORES2   TRANSPORT2  ...  \\\n",
       "count  9032.000000  9032.000000  9032.000000  9032.000000  9032.000000  ...   \n",
       "mean      2.496678     2.503432     0.249302     8.002214     7.948406  ...   \n",
       "std       1.121651     1.112332     0.111112     4.939272     4.931868  ...   \n",
       "min       1.000000     1.000000     0.100000     2.000000     2.000000  ...   \n",
       "25%       1.000000     2.000000     0.200000     5.000000     2.000000  ...   \n",
       "50%       3.000000     3.000000     0.200000    10.000000     5.000000  ...   \n",
       "75%       4.000000     3.000000     0.300000    10.000000    10.000000  ...   \n",
       "max       4.000000     4.000000     0.400000    15.000000    15.000000  ...   \n",
       "\n",
       "       HOMEOWNER_1   CAROWNER_1   RESPCITY_2   RESPCITY_3   RESPCITY_4  \\\n",
       "count  9032.000000  9032.000000  9032.000000  9032.000000  9032.000000   \n",
       "mean      0.224092     0.624004     0.176705     0.327724     0.260850   \n",
       "std       0.417006     0.484406     0.381440     0.469409     0.439123   \n",
       "min       0.000000     0.000000     0.000000     0.000000     0.000000   \n",
       "25%       0.000000     0.000000     0.000000     0.000000     0.000000   \n",
       "50%       0.000000     1.000000     0.000000     0.000000     0.000000   \n",
       "75%       0.000000     1.000000     0.000000     1.000000     1.000000   \n",
       "max       1.000000     1.000000     1.000000     1.000000     1.000000   \n",
       "\n",
       "             JOB_1   EDUYEARS_2   EDUYEARS_3   ENVCONC_2    ENVCONC_3  \n",
       "count  9032.000000  9032.000000  9032.000000  9032.00000  9032.000000  \n",
       "mean      0.735607     0.323295     0.643047     0.44597     0.370682  \n",
       "std       0.441034     0.467760     0.479127     0.49710     0.483014  \n",
       "min       0.000000     0.000000     0.000000     0.00000     0.000000  \n",
       "25%       0.000000     0.000000     0.000000     0.00000     0.000000  \n",
       "50%       1.000000     0.000000     1.000000     0.00000     0.000000  \n",
       "75%       1.000000     1.000000     1.000000     1.00000     1.000000  \n",
       "max       1.000000     1.000000     1.000000     1.00000     1.000000  \n",
       "\n",
       "[8 rows x 33 columns]"
      ]
     },
     "execution_count": 68,
     "metadata": {},
     "output_type": "execute_result"
    }
   ],
   "source": [
    "#Concatenar las variables socio demográficas con las características relevantes de las alternativas\n",
    "dff = pd.concat([dff[['ID', 'CHOICE'] + attributes], df_sociovars], axis=1)\n",
    "\n",
    "print(dff.shape)\n",
    "dff.describe()"
   ]
  },
  {
   "cell_type": "markdown",
   "metadata": {},
   "source": [
    "`ii. Dividir los datos en un conjunto de entrenamiento y otro de test`"
   ]
  },
  {
   "cell_type": "code",
   "execution_count": 69,
   "metadata": {},
   "outputs": [
    {
     "name": "stdout",
     "output_type": "stream",
     "text": [
      "Número de individuos en df_train y df_test: \t1832  426 \n",
      "Número de observaciones en df_train y df_test: \t7328 1704 \n"
     ]
    }
   ],
   "source": [
    "# Fijar una semilla para la reproducibilidad\n",
    "np.random.seed(100)\n",
    "dff['draw']=float('nan')\n",
    "for i in dff['ID'].unique():\n",
    "    num_obs = len(dff.loc[dff['ID']==i,'draw'])\n",
    "    dff.loc[dff['ID']==i,'draw']= np.repeat(np.random.uniform(0,1,1),num_obs)\n",
    "\n",
    "# Poner el 80% de los datos en el conjunto de entrenamiento y el 20% en el conjunto de prueba\n",
    "df_train = dff.loc[dff['draw']< 0.8,:].copy()\n",
    "df_test  = dff.loc[dff['draw']>=0.8,:].copy()\n",
    "\n",
    "# Número de observaciones en los conjuntos de entrenamiento y prueba\n",
    "num_obs_train = len(df_train)\n",
    "num_obs_test  = len(df_test)\n",
    "\n",
    "print(f'Número de individuos en df_train y df_test: \\t{df_train.ID.nunique()}  {df_test.ID.nunique()} ')\n",
    "print(f'Número de observaciones en df_train y df_test: \\t{len(df_train)} {len(df_test)} ')"
   ]
  },
  {
   "cell_type": "markdown",
   "metadata": {},
   "source": [
    "`iii. Escalar las características`<br>\n",
    "Para entrenar RNA de forma eficiente, se recomienda escalar (es decir, normalizar) las características. Existen varias formas de escalar los datos. A menudo se utiliza un escalador de sk-learn llamado 'StandardScaler'. Este escalador normaliza la varianza y desplaza la ubicación de la distribución a cero, vea https://scikit-learn.org/stable/modules/generated/sklearn.preprocessing.StandardScaler.html"
   ]
  },
  {
   "cell_type": "code",
   "execution_count": 70,
   "metadata": {},
   "outputs": [
    {
     "name": "stdout",
     "output_type": "stream",
     "text": [
      "Dimensión de x_train (7328, 31)\n",
      "Dimensión de x_test (1704, 31)\n"
     ]
    }
   ],
   "source": [
    "# Crear X_train y X_test\n",
    "x_train = df_train[attributes + features_socio]\n",
    "x_test  = df_test [attributes + features_socio]\n",
    "\n",
    "# Inicializar el objeto scaler\n",
    "scaler = StandardScaler()\n",
    "\n",
    "# Ajustar y transformar los datos de entrenamiento\n",
    "scaler = scaler.fit(dff[attributes + features_socio])\n",
    "\n",
    "# Aplicar el escalador ajustado a los conjuntos de datos\n",
    "x_train_scaled = pd.DataFrame(scaler.transform(df_train[attributes + features_socio]), columns=[attributes + features_socio])\n",
    "x_test_scaled =  pd.DataFrame(scaler.transform(df_test [attributes + features_socio]), columns=[attributes + features_socio]) \n",
    "\n",
    "print('Dimensión de x_train', x_train_scaled.shape)\n",
    "print('Dimensión de x_test', x_test_scaled.shape)\n",
    "\n",
    "# Crear valores de etiquetas \n",
    "# Y debe ser una matriz codificada como dummies\n",
    "y_train_dummy = pd.get_dummies(df_train['CHOICE']).values.astype(int)\n",
    "y_test_dummy = pd.get_dummies(df_test['CHOICE']).values.astype(int)"
   ]
  },
  {
   "cell_type": "markdown",
   "metadata": {},
   "source": [
    "`iv. Convertir a tensores`<br>\n",
    "Muchos paquetes de machine learning trabajan con los llamados tensores. Los tensores son estructuras de datos dedicadas a entrenar eficientemente redes neuronales. Por tanto, necesitamos convertir las características y el etiqueta en un tipo de datos tensores. En PyTorch, esto se hace con `torch.tensor()`.\n",
    " "
   ]
  },
  {
   "cell_type": "code",
   "execution_count": 71,
   "metadata": {},
   "outputs": [
    {
     "name": "stdout",
     "output_type": "stream",
     "text": [
      "Dimensión de x_train_tensor\t torch.Size([7328, 18])\n",
      "Dimensión de x_test_tensor\t torch.Size([1704, 18])\n"
     ]
    }
   ],
   "source": [
    "# Crear tensores para el conjunto de entrenamiento\n",
    "# En este caso, usamos sólo las características de las alternativas 'features_alt'\n",
    "x_train_tensor = torch.tensor(x_train_scaled[attributes].values, dtype=torch.float)\n",
    "y_train_dummy_tensor = torch.tensor(y_train_dummy, dtype=torch.float)\n",
    "\n",
    "# Crear tensores para el conjunto de test\n",
    "x_test_tensor = torch.tensor(x_test_scaled[attributes].values, dtype=torch.float)\n",
    "y_test_dummy_tensor = torch.tensor(y_test_dummy, dtype=torch.float)\n",
    "\n",
    "print('Dimensión de x_train_tensor\\t', x_train_tensor.shape)\n",
    "print('Dimensión de x_test_tensor\\t', x_test_tensor.shape)"
   ]
  },
  {
   "cell_type": "markdown",
   "metadata": {},
   "source": [
    "## `2. Estimación de un modelo de benchmark RUM-MNL lineal aditivo` "
   ]
  },
  {
   "cell_type": "markdown",
   "metadata": {},
   "source": [
    "`i. Estimación del modelo`<br>\n",
    "Primero estimamos nuestro modelo de benchmark RUM-MNL lineal-aditivo."
   ]
  },
  {
   "cell_type": "code",
   "execution_count": 72,
   "metadata": {},
   "outputs": [],
   "source": [
    "biodata_train = db.Database('neighbourhood_data_train', df_train)\n",
    "\n",
    "STORES1     = Variable('STORES1')\n",
    "TRANSPORT1  = Variable('TRANSPORT1')\n",
    "CITY1       = Variable('CITY1')\n",
    "NOISE1      = Variable('NOISE1')\n",
    "GREEN1      = Variable('GREEN1')\n",
    "FOREIGN1    = Variable('FOREIGN1')\n",
    "\n",
    "STORES2     = Variable('STORES2')\n",
    "TRANSPORT2  = Variable('TRANSPORT2')\n",
    "CITY2       = Variable('CITY2')\n",
    "NOISE2      = Variable('NOISE2')\n",
    "GREEN2      = Variable('GREEN2')\n",
    "FOREIGN2    = Variable('FOREIGN2')\n",
    "    \n",
    "STORES3     = Variable('STORES3')\n",
    "TRANSPORT3  = Variable('TRANSPORT3')\n",
    "CITY3       = Variable('CITY3')\n",
    "NOISE3      = Variable('NOISE3')\n",
    "GREEN3      = Variable('GREEN3')\n",
    "FOREIGN3    = Variable('FOREIGN3')\n",
    "\n",
    "CHOICE      = Variable('CHOICE')"
   ]
  },
  {
   "cell_type": "code",
   "execution_count": 73,
   "metadata": {},
   "outputs": [
    {
     "name": "stdout",
     "output_type": "stream",
     "text": [
      "Results for model Linear-additive RUM-MNL\n",
      "Nbr of parameters:\t\t6\n",
      "Sample size:\t\t\t7328\n",
      "Excluded data:\t\t\t0\n",
      "Null log likelihood:\t\t-8050.631\n",
      "Final log likelihood:\t\t-6471.391\n",
      "Likelihood ratio test (null):\t\t3158.48\n",
      "Rho square (null):\t\t\t0.196\n",
      "Rho bar square (null):\t\t\t0.195\n",
      "Akaike Information Criterion:\t12954.78\n",
      "Bayesian Information Criterion:\t12996.18\n",
      "\n"
     ]
    },
    {
     "data": {
      "text/html": [
       "<div>\n",
       "<style scoped>\n",
       "    .dataframe tbody tr th:only-of-type {\n",
       "        vertical-align: middle;\n",
       "    }\n",
       "\n",
       "    .dataframe tbody tr th {\n",
       "        vertical-align: top;\n",
       "    }\n",
       "\n",
       "    .dataframe thead th {\n",
       "        text-align: right;\n",
       "    }\n",
       "</style>\n",
       "<table border=\"1\" class=\"dataframe\">\n",
       "  <thead>\n",
       "    <tr style=\"text-align: right;\">\n",
       "      <th></th>\n",
       "      <th>Value</th>\n",
       "      <th>Rob. Std err</th>\n",
       "      <th>Rob. t-test</th>\n",
       "      <th>Rob. p-value</th>\n",
       "    </tr>\n",
       "  </thead>\n",
       "  <tbody>\n",
       "    <tr>\n",
       "      <th>B_city</th>\n",
       "      <td>-0.170377</td>\n",
       "      <td>0.009225</td>\n",
       "      <td>-18.468215</td>\n",
       "      <td>0.0</td>\n",
       "    </tr>\n",
       "    <tr>\n",
       "      <th>B_foreign</th>\n",
       "      <td>-1.193204</td>\n",
       "      <td>0.125067</td>\n",
       "      <td>-9.540546</td>\n",
       "      <td>0.0</td>\n",
       "    </tr>\n",
       "    <tr>\n",
       "      <th>B_green</th>\n",
       "      <td>0.416362</td>\n",
       "      <td>0.013073</td>\n",
       "      <td>31.849350</td>\n",
       "      <td>0.0</td>\n",
       "    </tr>\n",
       "    <tr>\n",
       "      <th>B_noise</th>\n",
       "      <td>-0.448441</td>\n",
       "      <td>0.012045</td>\n",
       "      <td>-37.230843</td>\n",
       "      <td>0.0</td>\n",
       "    </tr>\n",
       "    <tr>\n",
       "      <th>B_stores</th>\n",
       "      <td>-0.036265</td>\n",
       "      <td>0.002974</td>\n",
       "      <td>-12.193653</td>\n",
       "      <td>0.0</td>\n",
       "    </tr>\n",
       "    <tr>\n",
       "      <th>B_transport</th>\n",
       "      <td>-0.076922</td>\n",
       "      <td>0.002839</td>\n",
       "      <td>-27.095476</td>\n",
       "      <td>0.0</td>\n",
       "    </tr>\n",
       "  </tbody>\n",
       "</table>\n",
       "</div>"
      ],
      "text/plain": [
       "                Value  Rob. Std err  Rob. t-test  Rob. p-value\n",
       "B_city      -0.170377      0.009225   -18.468215           0.0\n",
       "B_foreign   -1.193204      0.125067    -9.540546           0.0\n",
       "B_green      0.416362      0.013073    31.849350           0.0\n",
       "B_noise     -0.448441      0.012045   -37.230843           0.0\n",
       "B_stores    -0.036265      0.002974   -12.193653           0.0\n",
       "B_transport -0.076922      0.002839   -27.095476           0.0"
      ]
     },
     "execution_count": 73,
     "metadata": {},
     "output_type": "execute_result"
    }
   ],
   "source": [
    "model_name = 'Linear-additive RUM-MNL'\n",
    "\n",
    "B_stores    = Beta('B_stores'   , 0, None, None, 0)\n",
    "B_transport = Beta('B_transport', 0, None, None, 0)\n",
    "B_city      = Beta('B_city'     , 0, None, None, 0)\n",
    "B_noise     = Beta('B_noise'    , 0, None, None, 0)\n",
    "B_green     = Beta('B_green'    , 0, None, None, 0)\n",
    "B_foreign   = Beta('B_foreign'  , 0, None, None, 0)\n",
    "\n",
    "V1 = B_stores * STORES1 + B_transport * TRANSPORT1 + B_city * CITY1 + B_noise * NOISE1 + B_green * GREEN1 + B_foreign * FOREIGN1\n",
    "V2 = B_stores * STORES2 + B_transport * TRANSPORT2 + B_city * CITY2 + B_noise * NOISE2 + B_green * GREEN2 + B_foreign * FOREIGN2\n",
    "V3 = B_stores * STORES3 + B_transport * TRANSPORT3 + B_city * CITY3 + B_noise * NOISE3 + B_green * GREEN3 + B_foreign * FOREIGN3\n",
    "\n",
    "V  = {1: V1, 2: V2, 3: V3}    \n",
    "AV = {1: 1, 2: 1, 3: 1} \n",
    "\n",
    "prob = models.logit(V, AV, CHOICE)\n",
    "\n",
    "biogeme = bio.BIOGEME(biodata_train, log(prob))\n",
    "\n",
    "biogeme.generate_pickle = False\n",
    "biogeme.generate_html = False\n",
    "biogeme.saveIterations = False\n",
    "biogeme.modelName = model_name\n",
    "\n",
    "biogeme.calculateNullLoglikelihood(AV)\n",
    "results = biogeme.estimate()\n",
    "print(results.short_summary())\n",
    "\n",
    "beta_hat = results.getEstimatedParameters()\n",
    "beta_hat"
   ]
  },
  {
   "cell_type": "markdown",
   "metadata": {},
   "source": [
    "`ii. Calcular la LL del modelo estimado en el conjunto de pruebas`."
   ]
  },
  {
   "cell_type": "code",
   "execution_count": 74,
   "metadata": {},
   "outputs": [
    {
     "name": "stdout",
     "output_type": "stream",
     "text": [
      "LL MNL test: -1543.88\n"
     ]
    }
   ],
   "source": [
    "# Crear el objeto Biogeme para la base de datos de prueba\n",
    "biodate_test = db.Database('Neighbourhood_data_test', df_test)\n",
    "\n",
    "# Simular la probabilidad de eleccion considerando el modelo MNL en los datos de prueba\n",
    "dict2simulate = {'prob_chosen':prob}\n",
    "\n",
    "# Crear el objeto de simulacion y calcular las probabilidades\n",
    "biosim = bio.BIOGEME(biodate_test,dict2simulate)\n",
    "simulated_probs = biosim.simulate(theBetaValues=results.getBetaValues())\n",
    "\n",
    "# Calcular Calculate la LL del MNL en la base de datos de prueba\n",
    "LL_MNL_test = np.log(simulated_probs['prob_chosen']).sum()\n",
    "print(f'LL MNL test: {LL_MNL_test:0.2f}')"
   ]
  },
  {
   "cell_type": "markdown",
   "metadata": {},
   "source": [
    "### ``Ejercicio 1: Disposición a pagar por vivir mas cerca de los supermercados``"
   ]
  },
  {
   "cell_type": "markdown",
   "metadata": {},
   "source": [
    "`A` Calcule la disposición a pagar para reducir el número de minutos caminando hasta las tiendas de comestibles en un minuto, expresado en términos de minutos caminando hasta el transporte público. Usa la fórmula::<br><br>\n",
    "$WTP = \\frac{\\beta_{stores}}{\\beta_{transport}}$<br><br>\n",
    "`B` Interprete este resultado. ¿Qué encuentran más importante las personas; minutos caminando hasta los supermercados o minutos caminando hasta el transporte público?"
   ]
  },
  {
   "cell_type": "markdown",
   "metadata": {},
   "source": [
    "$\\color{green}{\\text{Añade tus respuestas aqui}}$"
   ]
  },
  {
   "cell_type": "code",
   "execution_count": 75,
   "metadata": {},
   "outputs": [],
   "source": [
    "# Añade tu código aquí"
   ]
  },
  {
   "cell_type": "code",
   "execution_count": 76,
   "metadata": {},
   "outputs": [
    {
     "name": "stdout",
     "output_type": "stream",
     "text": [
      "\n",
      "La disposición a pagar para reducir un minuto el tiempo que se tarda en ir caminando al supermercado es: 0.47 minutos caminando hasta el transporte público\n",
      "\n",
      "La distancia al transporte público es casi dos veces más importante que la distancia a los supermercados porque el WTP es < 1\n"
     ]
    }
   ],
   "source": [
    "# ANSWERS\n",
    "# A\n",
    "WTP_MNL = beta_hat.loc['B_stores']['Value']/beta_hat.loc['B_transport']['Value']\n",
    "print(f'\\nLa disposición a pagar para reducir un minuto el tiempo que se tarda en ir caminando al supermercado es: {WTP_MNL:.2f} minutos caminando hasta el transporte público')\n",
    "\n",
    "# B\n",
    "print('\\nLa distancia al transporte público es casi dos veces más importante que la distancia a los supermercados porque el WTP es < 1')"
   ]
  },
  {
   "cell_type": "markdown",
   "metadata": {},
   "source": [
    "## `3. El modelo MLP`"
   ]
  },
  {
   "cell_type": "markdown",
   "metadata": {},
   "source": [
    "A El perceptrón multicapa (MLP) es una red neuronal ampliamente utilizada en el machine learning por su capacidad para aprender patrones complejos. Está compuesto por capas ocultas con neuronas y funciones de activación. <br>\n",
    "\n",
    "Por ejemplo, en la siguiente imagen, podemos ver una capa de entrada con 8 características, dos capas ocultas con 10 nodos ocultos cada una, y la capa de salida con 3 clases de salida:<br>\n",
    "\n",
    "<p align=\"center\\\">\n",
    "<img width=\"800\" src=\"Assets/MLP.png\">\n",
    "</p> "
   ]
  },
  {
   "cell_type": "markdown",
   "metadata": {},
   "source": [
    "`i. Definición del modelo MLP`<br>\n",
    "\n",
    "Crearemos una red neuronal totalmente conectada con dos capas ocultas. Para ello, crearemos una nueva clase utilizando el módulo nn.Module de PyTorch. \n",
    "\n",
    "En este caso, tendremos una capa de entrada de tamaño `input_size`, dos capas ocultas de tamaños `hidden_size1` y `hidden_size2` respectivamente, y una capa de salida de tamaño `output_size`. \n",
    "\n",
    "Además, definiremos la función de propragación. La función de propragación toma un valor de entrada `x`, lo pasa a través de las capas de la red, al tiempo que aplica funciones de activación. \n",
    "\n",
    "El resultado son las utilidades de cada alternativa `V`."
   ]
  },
  {
   "cell_type": "code",
   "execution_count": 77,
   "metadata": {},
   "outputs": [],
   "source": [
    "# Red neuronal totalmente conectada con dos capas ocultas\n",
    "\n",
    "class MLP(nn.Module):\n",
    "    def __init__(self, input_size, hidden_size1, hidden_size2, output_size):\n",
    "        super(MLP, self).__init__()\n",
    "        \n",
    "        self.fc1 = nn.Linear(input_size, hidden_size1)\n",
    "        self.fc2 = nn.Linear(hidden_size1, hidden_size2)\n",
    "        self.fc3 = nn.Linear(hidden_size2, output_size)\n",
    "        \n",
    "    def forward(self, x):\n",
    "        x = torch.tanh(self.fc1(x)) # función de activación tanh para la 1 capa\n",
    "        x = torch.tanh(self.fc2(x)) # función de activación tanh para la 2 capa\n",
    "        V = self.fc3(x)             # función de activación lineal para la capa de salida\n",
    "\n",
    "        return V                    # devuelve la «Utilidad» de cada alternativa"
   ]
  },
  {
   "cell_type": "markdown",
   "metadata": {},
   "source": [
    "`ii. Creación de DataLoaders`<br>\n",
    "A través de un objeto PyTorch Dataloader se maneja eficientemente el flujo de datos durante el entrenamiento y las evaluaciones. Este crea mini lotes, y se asegura de que las instancias de los datos se utilicen en cada época. <br>\n",
    "\n",
    "Crearemos un DataLoader para los conjuntos de datos de entrenamiento y prueba. "
   ]
  },
  {
   "cell_type": "code",
   "execution_count": 78,
   "metadata": {},
   "outputs": [],
   "source": [
    "# Crear un DataLoader para el conjunto de entrenamientos\n",
    "dataset_train = TensorDataset(x_train_tensor, y_train_dummy_tensor)\n",
    "train_loader = DataLoader(dataset_train, batch_size=250, shuffle=True)\n",
    "\n",
    "# Crear un DataLoader para el conjunto de pruebas\n",
    "dataset_test = TensorDataset(x_test_tensor, y_test_dummy_tensor)\n",
    "test_loader = DataLoader(dataset_test, batch_size=len(x_test_tensor), shuffle=True)"
   ]
  },
  {
   "cell_type": "markdown",
   "metadata": {},
   "source": [
    "`iii. Definir funciones`<br>\n",
    "Definiremos las siguientes funciones:\n",
    "1. Una función para evaluar el rendimiento del modelo durante el entrenamiento.\n",
    "2. Una función para visualizar el progreso del entrenamiento.\n",
    "3. Una función para examinar el modelo."
   ]
  },
  {
   "cell_type": "code",
   "execution_count": 79,
   "metadata": {},
   "outputs": [],
   "source": [
    "def evaluate(model, criterion, data_loader):\n",
    "    model.eval()  # Poner el modelo en modo evaluación\n",
    "    total_loss = 0.0\n",
    "\n",
    "    with torch.no_grad():\n",
    "        for inputs, labels in data_loader:\n",
    "            outputs = model(inputs)\n",
    "            loss = criterion(outputs, labels)\n",
    "            total_loss += loss.item()\n",
    "\n",
    "    return total_loss"
   ]
  },
  {
   "cell_type": "markdown",
   "metadata": {},
   "source": [
    "Esta función visualiza el progreso del entrenamiento. Llamamos a esta función una vez finalizado el entrenamiento."
   ]
  },
  {
   "cell_type": "code",
   "execution_count": 80,
   "metadata": {},
   "outputs": [],
   "source": [
    "def show_loss_plot(train_losses, test_losses, num_obs_train, num_obs_test):\n",
    "    fig, ax = plt.subplots(figsize=(8, 6))\n",
    "    ax.plot(np.array(train_losses)/num_obs_train, label='Training Loss')\n",
    "    ax.plot(np.array(test_losses)/num_obs_test,   label='Test Loss')\n",
    "    ax.set_xlabel('Epoch')\n",
    "    ax.set_ylabel('Loss')\n",
    "    ax.legend()\n",
    "    plt.show()"
   ]
  },
  {
   "cell_type": "markdown",
   "metadata": {},
   "source": [
    "Esta función nos permite inspeccionar la arquitectura del modelo creado. Enumera el número de pesos por capa y sus tamaños de entrada y salida. "
   ]
  },
  {
   "cell_type": "code",
   "execution_count": 81,
   "metadata": {},
   "outputs": [],
   "source": [
    "def print_model_summary(model):\n",
    "    total_params = 0\n",
    "    print(f\"=== Model Summary ===\")\n",
    "    for name, param in model.named_parameters():\n",
    "        if param.requires_grad:\n",
    "            num_params = param.numel()\n",
    "            total_params += num_params\n",
    "            print(f\"Layer: {name:20}|\\t Weights: {num_params}\")\n",
    "\n",
    "    print(f\"\\nTotal trainable Weights: {total_params}\")\n",
    "\n",
    "    print(\"\\n=== Layers ===\")\n",
    "    for layer in model.children():\n",
    "        print(layer)"
   ]
  },
  {
   "cell_type": "markdown",
   "metadata": {},
   "source": [
    "`iv. Crear el objeto MLP`<br>"
   ]
  },
  {
   "cell_type": "code",
   "execution_count": 82,
   "metadata": {},
   "outputs": [
    {
     "name": "stdout",
     "output_type": "stream",
     "text": [
      " input_size = 18, hidden_size1 = 10, hidden_size2 = 10, output_size = 3\n"
     ]
    }
   ],
   "source": [
    "# Definir las dimensiones del MLP\n",
    "input_size   = x_train_tensor.size()[1]  # Número de características de entrada\n",
    "hidden_size1 = 10                        # Número de nodos en la primera capa oculta\n",
    "hidden_size2 = 10                        # Número de nodos en la primera capa oculta\n",
    "output_size  = 3                         # Número de clases (determinado por el numero de alternativas)\n",
    "print(f' input_size = {input_size}, hidden_size1 = {hidden_size1}, hidden_size2 = {hidden_size2}, output_size = {output_size}')"
   ]
  },
  {
   "cell_type": "code",
   "execution_count": 83,
   "metadata": {},
   "outputs": [
    {
     "name": "stdout",
     "output_type": "stream",
     "text": [
      "=== Model Summary ===\n",
      "Layer: fc1.weight          |\t Weights: 180\n",
      "Layer: fc1.bias            |\t Weights: 10\n",
      "Layer: fc2.weight          |\t Weights: 100\n",
      "Layer: fc2.bias            |\t Weights: 10\n",
      "Layer: fc3.weight          |\t Weights: 30\n",
      "Layer: fc3.bias            |\t Weights: 3\n",
      "\n",
      "Total trainable Weights: 333\n",
      "\n",
      "=== Layers ===\n",
      "Linear(in_features=18, out_features=10, bias=True)\n",
      "Linear(in_features=10, out_features=10, bias=True)\n",
      "Linear(in_features=10, out_features=3, bias=True)\n"
     ]
    }
   ],
   "source": [
    "# Invocar el modelo MLP\n",
    "model = MLP(input_size, hidden_size1, hidden_size2, output_size)\n",
    "\n",
    "# Mostrar la arquitectura del modelo\n",
    "print_model_summary(model)"
   ]
  },
  {
   "cell_type": "markdown",
   "metadata": {},
   "source": [
    "`v. Entrenar el modelo MLP`<br>\n",
    "Finalmente, ¡estamos listos para entrenar el modelo!"
   ]
  },
  {
   "cell_type": "code",
   "execution_count": 84,
   "metadata": {},
   "outputs": [],
   "source": [
    "nEpoch = 500 # Establecer el número de epochs\n",
    "lr = 0.0001 # Establecer la tasa de aprendizaje\n",
    "status = 10 # Imprimir estado cada 'status' épocas\n",
    "patience = 5 # Número de epochs a esperar antes de parar preventivamente"
   ]
  },
  {
   "cell_type": "code",
   "execution_count": 85,
   "metadata": {},
   "outputs": [
    {
     "name": "stdout",
     "output_type": "stream",
     "text": [
      "Epoch [    1/500], Train Loss: 8276.667, Test Loss: 1907.639\n",
      "Epoch [   10/500], Train Loss: 7851.364, Test Loss: 1813.829\n",
      "Epoch [   20/500], Train Loss: 7428.162, Test Loss: 1722.638\n",
      "Epoch [   30/500], Train Loss: 7055.410, Test Loss: 1646.358\n",
      "Epoch [   40/500], Train Loss: 6739.162, Test Loss: 1585.970\n",
      "Epoch [   50/500], Train Loss: 6489.418, Test Loss: 1541.564\n",
      "Epoch [   60/500], Train Loss: 6319.984, Test Loss: 1513.048\n",
      "Epoch [   70/500], Train Loss: 6217.813, Test Loss: 1496.014\n",
      "Epoch [   80/500], Train Loss: 6158.208, Test Loss: 1485.112\n",
      "Epoch [   90/500], Train Loss: 6121.048, Test Loss: 1477.421\n",
      "Epoch [  100/500], Train Loss: 6096.684, Test Loss: 1471.862\n",
      "Epoch [  110/500], Train Loss: 6079.722, Test Loss: 1467.640\n",
      "Epoch [  120/500], Train Loss: 6067.304, Test Loss: 1464.320\n",
      "Epoch [  130/500], Train Loss: 6058.189, Test Loss: 1461.983\n",
      "Epoch [  140/500], Train Loss: 6051.103, Test Loss: 1459.989\n",
      "Epoch [  150/500], Train Loss: 6045.186, Test Loss: 1458.389\n",
      "Epoch [  160/500], Train Loss: 6040.724, Test Loss: 1457.189\n",
      "Epoch [  170/500], Train Loss: 6037.162, Test Loss: 1456.120\n",
      "Epoch [  180/500], Train Loss: 6033.773, Test Loss: 1455.136\n",
      "Epoch [  190/500], Train Loss: 6031.571, Test Loss: 1454.683\n",
      "Epoch [  200/500], Train Loss: 6029.047, Test Loss: 1453.600\n",
      "Epoch [  210/500], Train Loss: 6026.990, Test Loss: 1453.336\n",
      "Epoch [  220/500], Train Loss: 6025.369, Test Loss: 1452.992\n",
      "Epoch [  230/500], Train Loss: 6023.485, Test Loss: 1452.333\n",
      "Epoch [  240/500], Train Loss: 6022.025, Test Loss: 1451.902\n",
      "Epoch [  250/500], Train Loss: 6021.011, Test Loss: 1451.337\n",
      "Epoch [  260/500], Train Loss: 6019.594, Test Loss: 1451.186\n",
      "Parada anticipada en la epch 264\n",
      "\n",
      "Entrenamiento finalizado. \tPérdida de entrenamiento: 6019.190, Pérdida de test: 1451.071\n"
     ]
    },
    {
     "data": {
      "image/png": "[encoded data removed]",
      "text/plain": [
       "<Figure size 800x600 with 1 Axes>"
      ]
     },
     "metadata": {},
     "output_type": "display_data"
    }
   ],
   "source": [
    "do_training = True\n",
    "if do_training == True:\n",
    "\n",
    "    # Definir el modelo, la función de pérdida y el optimizador\n",
    "    \n",
    "    optimizer = optim.Adam(params=model.parameters(), lr=lr,  betas=(0.9, 0.999), eps=1e-07, weight_decay=0)\n",
    "    loss_fn = nn.CrossEntropyLoss(reduction='sum')\n",
    "\n",
    "    # Definir listas para almacenar los valores de loss \n",
    "    train_losses = []\n",
    "    test_losses = []\n",
    "\n",
    "    # Inicializar el contador de parada anticipada \n",
    "    counter = 0\n",
    "    best_loss = np.inf  # Establece la pérdida inicial a infinito\n",
    "\n",
    "    # Bucle de entrenamiento\n",
    "    for epoch in range(nEpoch):\n",
    "        running_loss = 0.0\n",
    "        for inputs, labels in train_loader:\n",
    "            # Poner a cero los gradientes\n",
    "            optimizer.zero_grad()\n",
    "\n",
    "            # Forward pass\n",
    "            outputs = model(inputs)   \n",
    "\n",
    "            # Calcular la perdida\n",
    "            loss = loss_fn(outputs, labels)\n",
    "\n",
    "            # Backward pass y optimizacion\n",
    "            loss.backward()\n",
    "            optimizer.step()\n",
    "\n",
    "            # Actualizar la pérdida\n",
    "            running_loss += loss.item() # Log-verosimilitud en el conjunto de entrenamiento\n",
    "\n",
    "        # Evaluar en el conjunto de prueba\n",
    "        test_loss = evaluate(model, loss_fn, test_loader) # Log-verosimilitud en el conjunto de prueba\n",
    "\n",
    "        \n",
    "        if epoch == 0 or (epoch + 1) % status == 0:\n",
    "            print(f'Epoch [{epoch+1:5.0f}/{nEpoch}], Train Loss: {running_loss:0.3f}, Test Loss: {test_loss:0.3f}')\n",
    "\n",
    "        # Almacenar pérdidas\n",
    "        train_losses.append(running_loss)\n",
    "        test_losses.append(test_loss)\n",
    "\n",
    "        # Implementar la parada anticipada\n",
    "        if test_loss < best_loss:\n",
    "            best_loss = test_loss\n",
    "            counter = 0\n",
    "        else:\n",
    "            counter += 1\n",
    "            if counter >= patience:\n",
    "                print(f'Parada anticipada en la epch {epoch+1}')\n",
    "                break\n",
    "            \n",
    "    print(f'\\nEntrenamiento finalizado. \\tPérdida de entrenamiento: {running_loss:0.3f}, Pérdida de test: {test_loss:0.3f}')\n",
    "    show_loss_plot(train_losses, test_losses,num_obs_train, num_obs_test)"
   ]
  },
  {
   "cell_type": "markdown",
   "metadata": {},
   "source": [
    "### `Ejercicio 2: Entrenamiento del modelo MLP`"
   ]
  },
  {
   "cell_type": "markdown",
   "metadata": {},
   "source": [
    "`A` Compare el rendimiento en el conjunto de prueba del MLP con el MNL de referencia. ¿Ha mejorado (mucho)? ¿Qué nos dice esto? <br>\n",
    "`B` Reentrena el MLP utilizando las siguientes arquitecturas: {hidden_size1,hidden_size2} = {1,1}, {3,3}, {1,20}, {20,1}, {20,3}, {20,20}<br>\n",
    "`C` ¿El aumento del número de neuronas conduce a un mejor rendimiento de generalización (es decir, mayor LL_test)? ¿Qué ocurre?\n",
    "`D` Explique por qué {1,1} y {20,1} y {1,20} conducen a un rendimiento pobre. <br>\n",
    "`E` Reentrene su modelo con una tasa de aprendizaje menor y mayor: lr = 0,01 y lr = 0,00001. Use {hidden_size1,hidden_size2} = {5,5}. Explique lo que ocurre."
   ]
  },
  {
   "cell_type": "markdown",
   "metadata": {},
   "source": [
    "$\\color{green}{\\text{Añada aquí sus respuestas}}$"
   ]
  },
  {
   "cell_type": "code",
   "execution_count": 86,
   "metadata": {},
   "outputs": [],
   "source": [
    "#Añada su código aquí"
   ]
  },
  {
   "cell_type": "code",
   "execution_count": 87,
   "metadata": {},
   "outputs": [],
   "source": [
    "# RESPUESTAS\n",
    "#`A` El MLP mejora el ajuste del modelo en casi 100 puntos LL. Esto es mucho. Indica que el supuesto de utilidad lineal aditiva es demasiado restrictivo.\n",
    "\n",
    "#`B`\n",
    "#{1,1} da un pobre rendimiento de generalización: LL = ~-1590\n",
    "#{3,3} da un rendimiento de generalización aceptable: LL = ~-1400\n",
    "#{1,20} da un rendimiento de generalización deficiente: LL = ~-1500\n",
    "#{20,1} da un rendimiento de generalización deficiente: LL = ~-1500\n",
    "#{20,3} da un rendimiento de generalización aceptable: LL = ~-1400 \n",
    "\n",
    "#`C` El aumento de {1,1} a {3,3} aumentar el desempeño en LL_test. Pero {20,20} no ayuda a que aumente más. \n",
    "\n",
    "#`D` Toda la información es comprimida en un nodo. Por lo tanto, los modelos no son capaces de asociar características a alternativas, lo que lleva a un rendimiento pobre.\n",
    "\n",
    "#`E` Un lr grande lleva a un entrenamiento rápido. Pero inestabilidad cerca de la convergencia. Un lr pequeño conduce a un entrenamiento lento. El modelo no estaba cerca de la convergencia cuando se alcanzó el número máximo de épocas de entrenamiento. "
   ]
  },
  {
   "cell_type": "markdown",
   "metadata": {},
   "source": [
    "### `Ejercicio 3: Añadir las características sociodemográficas`"
   ]
  },
  {
   "cell_type": "markdown",
   "metadata": {},
   "source": [
    "En la sección 1, en `iv. Convertir en tensores` decidimos utilizar sólo las características de las alternativas como entradas (es decir, `features_alt`), mientras que en la sesión de laboratorio 1 vimos que al menos el género (`WOMAN`) y la ciudad de residencia (`RESPCITY`) tienen cierto poder explicativo.<br>\n",
    "\n",
    "`A` Modifica el código en esta celda para que también se utilicen estas características socio demográficas. Después, vuelva a entrenar el MLP.\n",
    "`B` Quizás en contra de sus expectativas, el rendimiento del modelo no aumenta mucho. \n",
    "¿Qué nos dice esto sobre: \n",
    "1. el poder explicativo de las características sociodemográficas para la elección de la zona residencial, y \n",
    "2. la capacidad de los modelos MLP para aprender efectos de interacción sutiles? "
   ]
  },
  {
   "cell_type": "markdown",
   "metadata": {},
   "source": [
    "$\\color{green}{\\text{Añada aquí sus respuestas}}$"
   ]
  },
  {
   "cell_type": "code",
   "execution_count": 88,
   "metadata": {},
   "outputs": [],
   "source": [
    "#Añada su código aquí"
   ]
  },
  {
   "cell_type": "code",
   "execution_count": 89,
   "metadata": {},
   "outputs": [],
   "source": [
    "# ANSWERS\n",
    "do_exercise3 = False\n",
    "if do_exercise3 == True:\n",
    "    #### Recrear tensores para los datos de entrenamiento ####\n",
    "    features_alt = attributes\n",
    "    #En este caso, utilizamos las características de las alternativas 'features_alt', WOMAN y RESPCITY.\n",
    "    selected_features = features_alt + ['WOMAN_1', 'RESPCITY_2', 'RESPCITY_3', 'RESPCITY_4']\n",
    "\n",
    "    x_train_tensor = torch.tensor(x_train_scaled[selected_features].values, dtype=torch.float)\n",
    "    y_train_dummy_tensor = torch.tensor(y_train_dummy, dtype=torch.float)\n",
    "\n",
    "    x_test_tensor = torch.tensor(x_test_scaled[selected_features].values, dtype=torch.float)\n",
    "    y_test_dummy_tensor = torch.tensor(y_test_dummy, dtype=torch.float)\n",
    "\n",
    "\n",
    "\n",
    "    #### Recrear DataLoader ####\n",
    "    dataset_train = TensorDataset(x_train_tensor, y_train_dummy_tensor)\n",
    "    train_loader = DataLoader(dataset_train, batch_size=250, shuffle=True)\n",
    "\n",
    "    dataset_test = TensorDataset(x_test_tensor, y_test_dummy_tensor)\n",
    "    test_loader = DataLoader(dataset_test, batch_size=len(x_test_tensor), shuffle=True)\n",
    "\n",
    "\n",
    "\n",
    "    #### Redefinir la dimension de MLP  ####\n",
    "    input_size   = x_train_tensor.size()[1]  \n",
    "    hidden_size1 = 20                        \n",
    "    hidden_size2 = 20                        \n",
    "    output_size  = 3                         "
   ]
  },
  {
   "cell_type": "markdown",
   "metadata": {},
   "source": [
    "## `4. El modelo L-MNL `"
   ]
  },
  {
   "cell_type": "markdown",
   "metadata": {},
   "source": [
    "A continuación, construiremos y entrenaremos un modelo híbrido, concretamente el modelo L-MNL. Este modelo combina una parte interpretable siguiendo los supuestos del modelo MNL y una red neuronal que procesa el resto de variables que no queremos interpretar. Más concretamente, queremos la **flexibilidad** del MLP pero aún así queremos obtener una **estimación de la disposición a pagar por reducir el tiempo de caminata a los supermercados, expresada en términos del tiempo al transporte público**.\n",
    "\n",
    "La figura siguiente muestra conceptualmente este modelo:<br>\n",
    "\n",
    "<p align=\"center\">\n",
    "<img width=\"600\" src=\"assets/hybrid_model.png\">\n",
    "</p>"
   ]
  },
  {
   "cell_type": "markdown",
   "metadata": {},
   "source": [
    "`i. Definir el modelo L-MNL`<br>\n",
    "Para crear el modelo L-MNL,creamos una nueva clase utilizando nn.Module de PyTorch. <br>\n",
    "* La parte MNL se implementa con capas lineales separadas para las características («transport» y «foreign»), permitiendo calcular la utilidad para cada alternativa. <br>\n",
    "* La parte MLP consiste en dos capas ocultas (linear1 y linear2) con un número dado de neuronas.<br>\n",
    "* La función forward toma `x_mnl` y `x_mlp` como entradas. x_mlp se pasa a través de las capas de la red (`V_MLP`), mientras que x_mnl se utiliza para calcular las utilidades de forma lineal aditiva (`V_MNL`). \n",
    "* Finalmente, se suman las utilidades de ambas partes."
   ]
  },
  {
   "cell_type": "code",
   "execution_count": 90,
   "metadata": {},
   "outputs": [],
   "source": [
    "class LMNL(nn.Module):\n",
    "    def __init__(self, input_size_mlp, hidden_size1, hidden_size2,output_size):\n",
    "        super(LMNL,self).__init__()\n",
    "\n",
    "        # Crear betas para la parte MNL\n",
    "        self.B_transport = nn.Linear(1, 1, bias=False )\n",
    "        self.B_stores   = nn.Linear(1, 1, bias=False )\n",
    "                                 \n",
    "        # Crear las capas ocultas para la parte MLP \n",
    "        self.linear1 = nn.Linear(input_size_mlp, hidden_size1, bias=False)\n",
    "        self.linear2 = nn.Linear(hidden_size1,   hidden_size2, bias=False) \n",
    "        self.linear3 = nn.Linear(hidden_size2,   output_size,  bias=False) \n",
    "\n",
    "    def forward(self, X_MNL, X_MLP):\n",
    "        \n",
    "        # Funcion de utilidad para la parte MNL \n",
    "        V_A = self.B_transport(X_MNL[:,0].unsqueeze(1))  + self.B_stores(X_MNL[:,1].unsqueeze(1))\n",
    "        V_B = self.B_transport(X_MNL[:,2].unsqueeze(1))  + self.B_stores(X_MNL[:,3].unsqueeze(1))\n",
    "        V_C = self.B_transport(X_MNL[:,4].unsqueeze(1))  + self.B_stores(X_MNL[:,5].unsqueeze(1))\n",
    "                     \n",
    "        # Concatenating tensors to maintain the output dimension\n",
    "        V_MNL = torch.cat((V_A, V_B, V_C), dim=1)\n",
    "\n",
    "        # La parte MLP\n",
    "        X_MLP = torch.tanh(self.linear1(X_MLP)) \n",
    "        X_MLP = torch.tanh(self.linear2(X_MLP)) \n",
    "        V_MLP = self.linear3(X_MLP)             \n",
    "\n",
    "        V = V_MNL + V_MLP\n",
    "        return V"
   ]
  },
  {
   "cell_type": "markdown",
   "metadata": {},
   "source": [
    "`ii. Preparar los datos para entrenar el modelo L-MNL`<br>\n",
    "\n",
    "Necesitamos dividir las características que van en las partes MLP y MNL. Porque queremos calcular la WTP de los supermercados sobre el transporte. Por lo tanto, las características relacionadas con el transporte y las tiendas van a la parte MNL, mientras que las demás características, incluidas las sociodemográficas, van a la parte MLP.\n",
    "\n",
    " **Importante**, las características MNL NO deben escalarse."
   ]
  },
  {
   "cell_type": "code",
   "execution_count": 91,
   "metadata": {},
   "outputs": [
    {
     "name": "stdout",
     "output_type": "stream",
     "text": [
      "Dimesión de x_mnl_train\t (7328, 6)\n",
      "Dimesión de x_mnl_test\t (1704, 6)\n",
      "\n",
      "Dimesión de x_mlp_train\t (7328, 15)\n",
      "Dimesión de x_mlp_test\t (1704, 15)\n"
     ]
    }
   ],
   "source": [
    "features_mnl = ['TRANSPORT1', 'STORES1','TRANSPORT2', 'STORES2','TRANSPORT3', 'STORES3']\n",
    "x_mnl_train = x_train[features_mnl]\n",
    "x_mnl_test  = x_test[features_mnl]\n",
    "\n",
    "print('Dimesión de x_mnl_train\\t', x_mnl_train.shape)\n",
    "print('Dimesión de x_mnl_test\\t', x_mnl_test.shape)\n",
    "\n",
    "features_mlp_alt = ['FOREIGN1', 'CITY1', 'NOISE1', 'GREEN1', \n",
    "                    'FOREIGN2', 'CITY2', 'NOISE2', 'GREEN2', \n",
    "                    'FOREIGN3', 'CITY3', 'NOISE3', 'GREEN3']\n",
    "\n",
    "\n",
    "features_socio = ['RESPCITY_2','RESPCITY_3','RESPCITY_4']\n",
    "x_mlp_train = x_train_scaled[features_mlp_alt + features_socio]\n",
    "x_mlp_test  = x_test_scaled[features_mlp_alt + features_socio]\n",
    "\n",
    "print('\\nDimesión de x_mlp_train\\t', x_mlp_train.shape)\n",
    "print('Dimesión de x_mlp_test\\t', x_mlp_test.shape)"
   ]
  },
  {
   "cell_type": "markdown",
   "metadata": {},
   "source": [
    "Convertir datos en tensores PyTorch"
   ]
  },
  {
   "cell_type": "code",
   "execution_count": 92,
   "metadata": {},
   "outputs": [
    {
     "name": "stdout",
     "output_type": "stream",
     "text": [
      "Tamaño del tensor X_mnl_train =  torch.Size([7328, 6])\n",
      "Tamaño del tensor X_mlp_train =  torch.Size([7328, 15])\n",
      "\n",
      "Tamaño del tensorX_mnl_test  =  torch.Size([1704, 6])\n",
      "Tamaño del tensor X_mlp_test  =  torch.Size([1704, 15])\n"
     ]
    }
   ],
   "source": [
    "# Entrenamiento\n",
    "x_mnl_train_tensor = torch.tensor(x_mnl_train.values, dtype=torch.float)\n",
    "x_mlp_train_tensor = torch.tensor(x_mlp_train.values, dtype=torch.float)\n",
    "y_train_dummy_tensor = torch.tensor(y_train_dummy,    dtype=torch.float)\n",
    "\n",
    "# test\n",
    "x_mnl_test_tensor = torch.tensor(x_mnl_test.values, dtype=torch.float)\n",
    "x_mlp_test_tensor = torch.tensor(x_mlp_test.values, dtype=torch.float)\n",
    "y_test_dummy_tensor = torch.tensor(y_test_dummy,    dtype=torch.float)\n",
    "\n",
    "print('Tamaño del tensor X_mnl_train = ', x_mnl_train_tensor.size())\n",
    "print('Tamaño del tensor X_mlp_train = ', x_mlp_train_tensor.size())\n",
    "print('\\nTamaño del tensorX_mnl_test  = ', x_mnl_test_tensor.size())\n",
    "print('Tamaño del tensor X_mlp_test  = ', x_mlp_test_tensor.size())"
   ]
  },
  {
   "cell_type": "markdown",
   "metadata": {},
   "source": [
    "Crear PyTorch DataLoaders"
   ]
  },
  {
   "cell_type": "code",
   "execution_count": 93,
   "metadata": {},
   "outputs": [],
   "source": [
    "# Crear un DataLoader para el conjunto de entrenamiento\n",
    "dataset_train_lmnl = TensorDataset(x_mnl_train_tensor, x_mlp_train_tensor, y_train_dummy_tensor)\n",
    "train_loader_lmnl = DataLoader(dataset_train_lmnl, batch_size=250, shuffle=True)\n",
    "\n",
    "# Crear un DataLoader para el conjunto de test\n",
    "dataset_test_lmnl = TensorDataset(x_mnl_test_tensor, x_mlp_test_tensor, y_test_dummy_tensor)\n",
    "test_loader_lmnl = DataLoader(dataset_test_lmnl, batch_size=len(x_test_tensor), shuffle=False)"
   ]
  },
  {
   "cell_type": "markdown",
   "metadata": {},
   "source": [
    "`iii. Definir funciones`<br>\n",
    "No podemos reutilizar la función de evaluación que creamos antes, porque este modelo toma dos entradas (x_mnl, x_mlp), en lugar de una. Por lo tanto, creamos una nueva para el modelo L-MNL."
   ]
  },
  {
   "cell_type": "code",
   "execution_count": 94,
   "metadata": {},
   "outputs": [],
   "source": [
    "def evaluate_lmnl(model, criterion, data_loader):\n",
    "    model.eval()  \n",
    "    total_loss = 0.0\n",
    "\n",
    "    with torch.no_grad():\n",
    "        for x_mnl, x_mlp, labels in data_loader:\n",
    "            outputs = model(x_mnl,x_mlp)\n",
    "            loss = criterion(outputs, labels)\n",
    "            total_loss += loss.item()\n",
    "\n",
    "    return total_loss"
   ]
  },
  {
   "cell_type": "markdown",
   "metadata": {},
   "source": [
    "`iv. Create the L-MNL model object`<br>"
   ]
  },
  {
   "cell_type": "code",
   "execution_count": 95,
   "metadata": {},
   "outputs": [
    {
     "name": "stdout",
     "output_type": "stream",
     "text": [
      " input_size_mnl = 6, input_size_mlp = 15, hidden_size1 = 10, hidden_size2 = 10, output_size = 3\n"
     ]
    }
   ],
   "source": [
    "# Define the dimensions\n",
    "input_size_mnl = x_mnl_train_tensor.size()[1]  \n",
    "input_size_mlp = x_mlp_train_tensor.size()[1]  \n",
    "hidden_size1 = 10  \n",
    "hidden_size2 = 10  \n",
    "output_size = 3    \n",
    "print(f' input_size_mnl = {input_size_mnl}, input_size_mlp = {input_size_mlp}, hidden_size1 = {hidden_size1}, hidden_size2 = {hidden_size2}, output_size = {output_size}')"
   ]
  },
  {
   "cell_type": "code",
   "execution_count": 96,
   "metadata": {},
   "outputs": [
    {
     "name": "stdout",
     "output_type": "stream",
     "text": [
      "=== Model Summary ===\n",
      "Layer: B_transport.weight  |\t Weights: 1\n",
      "Layer: B_stores.weight     |\t Weights: 1\n",
      "Layer: linear1.weight      |\t Weights: 150\n",
      "Layer: linear2.weight      |\t Weights: 100\n",
      "Layer: linear3.weight      |\t Weights: 30\n",
      "\n",
      "Total trainable Weights: 282\n",
      "\n",
      "=== Layers ===\n",
      "Linear(in_features=1, out_features=1, bias=False)\n",
      "Linear(in_features=1, out_features=1, bias=False)\n",
      "Linear(in_features=15, out_features=10, bias=False)\n",
      "Linear(in_features=10, out_features=10, bias=False)\n",
      "Linear(in_features=10, out_features=3, bias=False)\n"
     ]
    }
   ],
   "source": [
    "# Invocar al modelo L-MNL\n",
    "model = LMNL(input_size_mlp, hidden_size1, hidden_size2, output_size)\n",
    "\n",
    "print_model_summary(model)"
   ]
  },
  {
   "cell_type": "markdown",
   "metadata": {},
   "source": [
    "`v. Entrenar el modelo L-MNL`<br>\n",
    "Finalmente, ¡estamos listos para entrenar el modelo L-MNL!"
   ]
  },
  {
   "cell_type": "code",
   "execution_count": 97,
   "metadata": {},
   "outputs": [],
   "source": [
    "nEpoch = 1000  \n",
    "lr = 0.0001  \n",
    "status = 10  \n",
    "patience = 5  "
   ]
  },
  {
   "cell_type": "code",
   "execution_count": 98,
   "metadata": {},
   "outputs": [
    {
     "name": "stdout",
     "output_type": "stream",
     "text": [
      "Epoch [    1/1000], Train Loss: 20734.998, Test Loss: 4863.703\n",
      "Epoch [   10/1000], Train Loss: 19650.273, Test Loss: 4616.312\n",
      "Epoch [   20/1000], Train Loss: 18286.001, Test Loss: 4304.731\n",
      "Epoch [   30/1000], Train Loss: 16663.796, Test Loss: 3936.127\n",
      "Epoch [   40/1000], Train Loss: 14919.554, Test Loss: 3540.859\n",
      "Epoch [   50/1000], Train Loss: 13272.279, Test Loss: 3164.543\n",
      "Epoch [   60/1000], Train Loss: 11863.274, Test Loss: 2838.761\n",
      "Epoch [   70/1000], Train Loss: 10692.951, Test Loss: 2567.238\n",
      "Epoch [   80/1000], Train Loss: 9718.844, Test Loss: 2341.505\n",
      "Epoch [   90/1000], Train Loss: 8917.934, Test Loss: 2156.332\n",
      "Epoch [  100/1000], Train Loss: 8282.631, Test Loss: 2010.111\n",
      "Epoch [  110/1000], Train Loss: 7797.149, Test Loss: 1899.218\n",
      "Epoch [  120/1000], Train Loss: 7435.375, Test Loss: 1816.507\n",
      "Epoch [  130/1000], Train Loss: 7165.360, Test Loss: 1754.613\n",
      "Epoch [  140/1000], Train Loss: 6960.700, Test Loss: 1706.998\n",
      "Epoch [  150/1000], Train Loss: 6800.742, Test Loss: 1668.449\n",
      "Epoch [  160/1000], Train Loss: 6670.627, Test Loss: 1636.132\n",
      "Epoch [  170/1000], Train Loss: 6561.472, Test Loss: 1607.881\n",
      "Epoch [  180/1000], Train Loss: 6467.879, Test Loss: 1582.943\n",
      "Epoch [  190/1000], Train Loss: 6387.913, Test Loss: 1560.955\n",
      "Epoch [  200/1000], Train Loss: 6319.947, Test Loss: 1542.022\n",
      "Epoch [  210/1000], Train Loss: 6263.544, Test Loss: 1525.677\n",
      "Epoch [  220/1000], Train Loss: 6216.978, Test Loss: 1512.167\n",
      "Epoch [  230/1000], Train Loss: 6179.431, Test Loss: 1500.657\n",
      "Epoch [  240/1000], Train Loss: 6149.853, Test Loss: 1491.522\n",
      "Epoch [  250/1000], Train Loss: 6126.485, Test Loss: 1483.996\n",
      "Epoch [  260/1000], Train Loss: 6108.030, Test Loss: 1477.918\n",
      "Epoch [  270/1000], Train Loss: 6093.743, Test Loss: 1473.016\n",
      "Epoch [  280/1000], Train Loss: 6082.323, Test Loss: 1469.139\n",
      "Epoch [  290/1000], Train Loss: 6073.056, Test Loss: 1466.099\n",
      "Epoch [  300/1000], Train Loss: 6065.383, Test Loss: 1463.317\n",
      "Epoch [  310/1000], Train Loss: 6058.769, Test Loss: 1461.248\n",
      "Epoch [  320/1000], Train Loss: 6053.140, Test Loss: 1459.528\n",
      "Epoch [  330/1000], Train Loss: 6048.303, Test Loss: 1457.872\n",
      "Epoch [  340/1000], Train Loss: 6043.559, Test Loss: 1456.547\n",
      "Epoch [  350/1000], Train Loss: 6039.417, Test Loss: 1455.367\n",
      "Epoch [  360/1000], Train Loss: 6035.456, Test Loss: 1454.368\n",
      "Epoch [  370/1000], Train Loss: 6031.850, Test Loss: 1453.265\n",
      "Epoch [  380/1000], Train Loss: 6028.491, Test Loss: 1452.451\n",
      "Epoch [  390/1000], Train Loss: 6025.297, Test Loss: 1451.599\n",
      "Epoch [  400/1000], Train Loss: 6022.458, Test Loss: 1450.945\n",
      "Epoch [  410/1000], Train Loss: 6019.133, Test Loss: 1450.272\n",
      "Epoch [  420/1000], Train Loss: 6016.464, Test Loss: 1449.711\n",
      "Epoch [  430/1000], Train Loss: 6014.003, Test Loss: 1449.061\n",
      "Epoch [  440/1000], Train Loss: 6011.400, Test Loss: 1448.503\n",
      "Epoch [  450/1000], Train Loss: 6008.841, Test Loss: 1448.258\n",
      "Epoch [  460/1000], Train Loss: 6006.409, Test Loss: 1447.693\n",
      "Epoch [  470/1000], Train Loss: 6004.382, Test Loss: 1447.312\n",
      "Epoch [  480/1000], Train Loss: 6002.124, Test Loss: 1447.068\n",
      "Epoch [  490/1000], Train Loss: 6000.073, Test Loss: 1446.634\n",
      "Epoch [  500/1000], Train Loss: 5998.011, Test Loss: 1446.449\n",
      "Epoch [  510/1000], Train Loss: 5996.237, Test Loss: 1446.012\n",
      "Epoch [  520/1000], Train Loss: 5994.261, Test Loss: 1445.757\n",
      "Parada anticipada en la época 523\n",
      "\n",
      "Entrenamiento terminado.\tPérdida de entrenamiento: 5993.721, Pérdida de test: 1445.863\n"
     ]
    },
    {
     "data": {
      "image/png": "[encoded data removed]",
      "text/plain": [
       "<Figure size 800x600 with 1 Axes>"
      ]
     },
     "metadata": {},
     "output_type": "display_data"
    }
   ],
   "source": [
    "# Definir la función de pérdida y el optimizador\n",
    "loss_fn = nn.CrossEntropyLoss(reduction='sum')\n",
    "optimizer = optim.Adam(params=model.parameters(), lr=lr,  betas=(0.9, 0.999), eps=1e-07, weight_decay=0)\n",
    "\n",
    "# Definir las listas para almacenar las pérdidas\n",
    "train_losses = []\n",
    "test_losses = []\n",
    "\n",
    "# Inicializar contador de parada anticipada \n",
    "counter = 0\n",
    "best_loss = np.inf  # Establecer la pérdida inicial a infinito\n",
    "\n",
    "# Bucle de entrenamiento\n",
    "for epoch in range(nEpoch):\n",
    "    running_loss = 0.0\n",
    "    for x_mnl, x_mlp, labels in train_loader_lmnl:\n",
    "        \n",
    "        # Poner a cero los gradientes\n",
    "        optimizer.zero_grad()\n",
    "\n",
    "        # Forward pass\n",
    "        outputs = model(x_mnl,x_mlp)   \n",
    "\n",
    "        # Calcular la perdida\n",
    "        loss = loss_fn(outputs, labels)\n",
    "\n",
    "        # Backward pass y optimizacion\n",
    "        loss.backward()\n",
    "        optimizer.step()\n",
    "\n",
    "        running_loss += loss.item() # Log-verosimilitud en el conjunto de entrenamiento\n",
    "\n",
    "    # Evaluar en el conjunto de prueba\n",
    "    test_loss = evaluate_lmnl(model, loss_fn, test_loader_lmnl)\n",
    "\n",
    "    if epoch == 0 or (epoch + 1) % status == 0:\n",
    "        print(f'Epoch [{epoch+1:5.0f}/{nEpoch}], Train Loss: {running_loss:0.3f}, Test Loss: {test_loss:0.3f}')\n",
    "\n",
    "    train_losses.append(running_loss)\n",
    "    test_losses.append(test_loss)\n",
    "\n",
    "    # Implementar la parada anticipada\n",
    "    if test_loss < best_loss:\n",
    "        best_loss = test_loss\n",
    "        counter = 0\n",
    "    else:\n",
    "        counter += 1\n",
    "        if counter >= patience:\n",
    "            print(f'Parada anticipada en la época {epoch+1}')\n",
    "            break\n",
    "        \n",
    "print(f'\\nEntrenamiento terminado.\\tPérdida de entrenamiento: {running_loss:0.3f}, Pérdida de test: {test_loss:0.3f}')\n",
    "show_loss_plot(train_losses, test_losses, num_obs_train, num_obs_test)"
   ]
  },
  {
   "cell_type": "code",
   "execution_count": 99,
   "metadata": {},
   "outputs": [
    {
     "name": "stdout",
     "output_type": "stream",
     "text": [
      "\n",
      "La disposición a pagar para reducir un minuto el tiempo de caminata hasta el supermercado es: 0.91 minutos caminando hasta el transporte público\n"
     ]
    }
   ],
   "source": [
    "# Calcular la disposición a pagar para reducir el tiempo caminado al supermercado en un minuto\n",
    "LL_LMNL = best_loss\n",
    "B_transport_LMNL = model.B_transport.weight.data.item()\n",
    "B_stores_LMNL = model.B_stores.weight.data.item()\n",
    "\n",
    "WTP_LMNL = B_stores_LMNL/B_transport_LMNL\n",
    "print(f'\\nLa disposición a pagar para reducir un minuto el tiempo de caminata hasta el supermercado es: {WTP_LMNL:.2f} minutos caminando hasta el transporte público')"
   ]
  },
  {
   "cell_type": "markdown",
   "metadata": {},
   "source": [
    "`Reflexiones`\n",
    "1. El modelo L-MNL consigue un ajuste del modelo muy próximo al modelo MLP totalmente flexible\n",
    "1. El modelo L-MNL permite comprender la relación entre la distancia a los supermercados y la distancia al transporte público.\n",
    "1. Los resultados recuperan que la WTP no es estable, sino que fluctúa a lo largo de los entrenamientos."
   ]
  },
  {
   "cell_type": "markdown",
   "metadata": {},
   "source": [
    "## `Ejercicio 4: Características L-MLP`<br>"
   ]
  },
  {
   "cell_type": "markdown",
   "metadata": {},
   "source": [
    "`A` Pruebe a reducir el número de características que se introducen en el MLP y evalúe el impacto en el rendimiento del modelo y la WTP. Es decir, utilice sólo «RESPCITY» y «WOMAN»."
   ]
  },
  {
   "cell_type": "markdown",
   "metadata": {},
   "source": [
    "$\\color{green}{\\text{Añada aquí sus respuestas}}$"
   ]
  },
  {
   "cell_type": "code",
   "execution_count": 100,
   "metadata": {},
   "outputs": [],
   "source": [
    "# Añade tu código aquí"
   ]
  },
  {
   "cell_type": "code",
   "execution_count": 101,
   "metadata": {},
   "outputs": [],
   "source": [
    "do_exercise4 = False\n",
    "if do_exercise4 == True:\n",
    "    \n",
    "    features_socio = ['WOMAN_1', 'RESPCITY_2', 'RESPCITY_3', 'RESPCITY_4']\n",
    "\n",
    "    x_mlp_train = x_train_scaled[features_mlp_alt + features_socio]\n",
    "    x_mlp_test  = x_test_scaled[features_mlp_alt + features_socio]\n",
    "    \n",
    "    x_mlp_train_tensor = torch.tensor(x_mlp_train.values, dtype=torch.float)\n",
    "    x_mlp_test_tensor = torch.tensor(x_mlp_test.values, dtype=torch.float)\n",
    "    \n",
    "\n",
    "    dataset_train_lmnl = TensorDataset(x_mnl_train_tensor, x_mlp_train_tensor, y_train_dummy_tensor)\n",
    "    train_loader_lmnl = DataLoader(dataset_train_lmnl, batch_size=250, shuffle=True)\n",
    "    dataset_test_lmnl = TensorDataset(x_mnl_test_tensor, x_mlp_test_tensor, y_test_dummy_tensor)\n",
    "    test_loader_lmnl = DataLoader(dataset_test_lmnl, batch_size=len(x_test_tensor), shuffle=False)\n",
    "\n",
    "\n",
    "    input_size_mlp = x_mlp_train_tensor.size()[1] "
   ]
  },
  {
   "cell_type": "markdown",
   "metadata": {},
   "source": [
    "`A.ii` Volver a entrenar el modelo MLP utilizando la celda anterior:  <br>\n",
    "\n",
    "Pérdida de entrenamiento: 6019,589, Pérdida de test: 1378,459 y la Disposición a pagar por reducir un minuto el tiempo de caminata hasta los supermercados es: 1,02 minutos de caminata hasta el transporte público."
   ]
  },
  {
   "cell_type": "markdown",
   "metadata": {},
   "source": [
    "## `Ejercicio 5: Predicción utilizando L-MNL`<br>"
   ]
  },
  {
   "cell_type": "markdown",
   "metadata": {},
   "source": [
    "Un investigador desearía utilizar este modelo para hacer predicciones sobre la cuota de mercado. Sin embargo, esto es más difícil.<br>\n",
    "\n",
    "`A` Explique 2 razones por las que realizar previsiones con el modelo L-MNL es menos sencillo que con los modelos MNL.<br>\n",
    "`B` Explique 2 argumentos a favor de la utilización del modelo L-MNL como base para la elaboración de políticas.<br>\n",
    "`C` Supongamos que le contratan para ayudar y asesorar a este investigador. ¿Qué le aconsejaría, por ejemplo, en cuanto a la especificación del modelo L-MNL, la formación, la evaluación comparativa, etc.?<br>"
   ]
  },
  {
   "cell_type": "markdown",
   "metadata": {},
   "source": [
    "$\\color{green}{\\text{Añada aquí sus respuestas}}$"
   ]
  },
  {
   "cell_type": "code",
   "execution_count": 102,
   "metadata": {},
   "outputs": [],
   "source": [
    "# Añade tu código aquí"
   ]
  },
  {
   "cell_type": "markdown",
   "metadata": {},
   "source": [
    "`A` <br>\n",
    "(1) El modelo hace predicciones diferentes cada vez que lo entrenamos. Para tener esto en cuenta, el investigador probablemente deba entrenar varios modelos y promediar las predicciones.<br>\n",
    "(2) En caso de que se utilicen variables sociodemográficas, las predicciones del modelo L-MNL son condicionales a las variables sociodemográficas. En caso de que la muestra esté sesgada (por ejemplo, demasiadas mujeres/jóvenes, etc., no está claro cómo corregirlo).<br>\n",
    "(3) Los tiempos de entrenamiento y el preprocesamiento de datos son más largos y laboriosos<br>\n",
    "(4) El modelo es menos fácil de explicar a los no especialistas que un simple modelo MNL. Por ejemplo, los responsables políticos son reacios a basar sus decisiones en modelos que no comprenden.<br>\n",
    "\n",
    "`B` <br>\n",
    "(1) Empíricamente, el modelo L-MNL consigue un ajuste considerablemente mejor. Esto significa que el modelo es capaz de replicar mejor el comportamiento de elección y, como corolario, las predicciones son más precisas.<br>\n",
    "(2) Conceptualmente, el modelo MNL lineal aditivo es demasiado simplista para captar las complejidades del comportamiento de elección humano real.<br>\n",
    "\n",
    "`C` \n",
    "- Utilizar el modelo MNL para probar las interacciones/no linealidades esperadas\n",
    "- Probar numerosas especificaciones para el L-MNL, en términos de características. \n",
    "- Evalúe la especificación en términos de ajuste, pero también en términos de WTP implícitas. \n",
    "- Realice un ajuste adecuado de los hiperparámetros.\n",
    "- Comparar siempre los resultados con el RUM-MNL. \n",
    "- Tener en cuenta la estocasticidad del modelo L-MNL promediando numerosas ejecuciones. \n"
   ]
  }
 ],
 "metadata": {
  "interpreter": {
   "hash": "570feb405e2e27c949193ac68f46852414290d515b0ba6e5d90d076ed2284471"
  },
  "kernelspec": {
   "display_name": "Python 3.8.6 64-bit",
   "language": "python",
   "name": "python3"
  },
  "language_info": {
   "codemirror_mode": {
    "name": "ipython",
    "version": 3
   },
   "file_extension": ".py",
   "mimetype": "text/x-python",
   "name": "python",
   "nbconvert_exporter": "python",
   "pygments_lexer": "ipython3",
   "version": "3.11.7"
  }
 },
 "nbformat": 4,
 "nbformat_minor": 2
}
